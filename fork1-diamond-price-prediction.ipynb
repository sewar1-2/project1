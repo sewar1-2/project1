{
 "cells": [
  {
   "cell_type": "code",
   "execution_count": 1,
   "id": "515d5bb3",
   "metadata": {
    "_cell_guid": "b1076dfc-b9ad-4769-8c92-a6c4dae69d19",
    "_uuid": "8f2839f25d086af736a60e9eeb907d3b93b6e0e5",
    "execution": {
     "iopub.execute_input": "2023-05-07T17:18:01.941382Z",
     "iopub.status.busy": "2023-05-07T17:18:01.940947Z",
     "iopub.status.idle": "2023-05-07T17:18:02.871260Z",
     "shell.execute_reply": "2023-05-07T17:18:02.870305Z"
    },
    "papermill": {
     "duration": 0.944149,
     "end_time": "2023-05-07T17:18:02.873293",
     "exception": false,
     "start_time": "2023-05-07T17:18:01.929144",
     "status": "completed"
    },
    "tags": []
   },
   "outputs": [
    {
     "name": "stderr",
     "output_type": "stream",
     "text": [
      "/opt/conda/lib/python3.10/site-packages/scipy/__init__.py:146: UserWarning: A NumPy version >=1.16.5 and <1.23.0 is required for this version of SciPy (detected version 1.23.5\n",
      "  warnings.warn(f\"A NumPy version >={np_minversion} and <{np_maxversion}\"\n"
     ]
    },
    {
     "name": "stdout",
     "output_type": "stream",
     "text": [
      "/kaggle/input/traintest/train.csv\n",
      "/kaggle/input/traintest/test.csv\n"
     ]
    }
   ],
   "source": [
    "# This Python 3 environment comes with many helpful analytics libraries installed\n",
    "# It is defined by the kaggle/python Docker image: https://github.com/kaggle/docker-python\n",
    "# For example, here's several helpful packages to load\n",
    "\n",
    "import numpy as np # linear algebra\n",
    "import pandas as pd # data processing, CSV file I/O (e.g. pd.read_csv)\n",
    "import matplotlib.pyplot as plt\n",
    "import seaborn as sns\n",
    "\n",
    "# Input data files are available in the read-only \"../input/\" directory\n",
    "# For example, running this (by clicking run or pressing Shift+Enter) will list all files under the input directory\n",
    "\n",
    "import os\n",
    "for dirname, _, filenames in os.walk('/kaggle/input'):\n",
    "    for filename in filenames:\n",
    "        print(os.path.join(dirname, filename))\n",
    "\n",
    "# You can write up to 20GB to the current directory (/kaggle/working/) that gets preserved as output when you create a version using \"Save & Run All\" \n",
    "# You can also write temporary files to /kaggle/temp/, but they won't be saved outside of the current session"
   ]
  },
  {
   "cell_type": "markdown",
   "id": "ff08ec7d",
   "metadata": {
    "papermill": {
     "duration": 0.009316,
     "end_time": "2023-05-07T17:18:02.892257",
     "exception": false,
     "start_time": "2023-05-07T17:18:02.882941",
     "status": "completed"
    },
    "tags": []
   },
   "source": [
    "# Importing the Data"
   ]
  },
  {
   "cell_type": "code",
   "execution_count": 2,
   "id": "ba87607c",
   "metadata": {
    "execution": {
     "iopub.execute_input": "2023-05-07T17:18:02.913453Z",
     "iopub.status.busy": "2023-05-07T17:18:02.911895Z",
     "iopub.status.idle": "2023-05-07T17:18:03.065173Z",
     "shell.execute_reply": "2023-05-07T17:18:03.064109Z"
    },
    "papermill": {
     "duration": 0.165989,
     "end_time": "2023-05-07T17:18:03.067520",
     "exception": false,
     "start_time": "2023-05-07T17:18:02.901531",
     "status": "completed"
    },
    "tags": []
   },
   "outputs": [],
   "source": [
    "df_train=pd.read_csv('/kaggle/input/traintest/train.csv')\n",
    "df_test= pd.read_csv('/kaggle/input/traintest/test.csv')"
   ]
  },
  {
   "cell_type": "code",
   "execution_count": 3,
   "id": "bab232a7",
   "metadata": {
    "execution": {
     "iopub.execute_input": "2023-05-07T17:18:03.089621Z",
     "iopub.status.busy": "2023-05-07T17:18:03.088161Z",
     "iopub.status.idle": "2023-05-07T17:18:03.110369Z",
     "shell.execute_reply": "2023-05-07T17:18:03.109282Z"
    },
    "papermill": {
     "duration": 0.034802,
     "end_time": "2023-05-07T17:18:03.112456",
     "exception": false,
     "start_time": "2023-05-07T17:18:03.077654",
     "status": "completed"
    },
    "tags": []
   },
   "outputs": [
    {
     "data": {
      "text/html": [
       "<div>\n",
       "<style scoped>\n",
       "    .dataframe tbody tr th:only-of-type {\n",
       "        vertical-align: middle;\n",
       "    }\n",
       "\n",
       "    .dataframe tbody tr th {\n",
       "        vertical-align: top;\n",
       "    }\n",
       "\n",
       "    .dataframe thead th {\n",
       "        text-align: right;\n",
       "    }\n",
       "</style>\n",
       "<table border=\"1\" class=\"dataframe\">\n",
       "  <thead>\n",
       "    <tr style=\"text-align: right;\">\n",
       "      <th></th>\n",
       "      <th>Id</th>\n",
       "      <th>carat</th>\n",
       "      <th>cut</th>\n",
       "      <th>color</th>\n",
       "      <th>clarity</th>\n",
       "      <th>depth</th>\n",
       "      <th>table</th>\n",
       "      <th>price</th>\n",
       "      <th>x</th>\n",
       "      <th>y</th>\n",
       "      <th>z</th>\n",
       "    </tr>\n",
       "  </thead>\n",
       "  <tbody>\n",
       "    <tr>\n",
       "      <th>0</th>\n",
       "      <td>1</td>\n",
       "      <td>1.06</td>\n",
       "      <td>Ideal</td>\n",
       "      <td>I</td>\n",
       "      <td>SI2</td>\n",
       "      <td>61.8</td>\n",
       "      <td>57.0</td>\n",
       "      <td>4270</td>\n",
       "      <td>6.57</td>\n",
       "      <td>6.60</td>\n",
       "      <td>4.07</td>\n",
       "    </tr>\n",
       "    <tr>\n",
       "      <th>1</th>\n",
       "      <td>2</td>\n",
       "      <td>1.51</td>\n",
       "      <td>Premium</td>\n",
       "      <td>G</td>\n",
       "      <td>VVS2</td>\n",
       "      <td>60.9</td>\n",
       "      <td>58.0</td>\n",
       "      <td>15164</td>\n",
       "      <td>7.38</td>\n",
       "      <td>7.42</td>\n",
       "      <td>4.51</td>\n",
       "    </tr>\n",
       "    <tr>\n",
       "      <th>2</th>\n",
       "      <td>3</td>\n",
       "      <td>0.32</td>\n",
       "      <td>Ideal</td>\n",
       "      <td>F</td>\n",
       "      <td>VS2</td>\n",
       "      <td>61.3</td>\n",
       "      <td>56.0</td>\n",
       "      <td>828</td>\n",
       "      <td>4.43</td>\n",
       "      <td>4.41</td>\n",
       "      <td>2.71</td>\n",
       "    </tr>\n",
       "    <tr>\n",
       "      <th>3</th>\n",
       "      <td>4</td>\n",
       "      <td>0.53</td>\n",
       "      <td>Ideal</td>\n",
       "      <td>G</td>\n",
       "      <td>VS2</td>\n",
       "      <td>61.2</td>\n",
       "      <td>56.0</td>\n",
       "      <td>1577</td>\n",
       "      <td>5.19</td>\n",
       "      <td>5.22</td>\n",
       "      <td>3.19</td>\n",
       "    </tr>\n",
       "    <tr>\n",
       "      <th>4</th>\n",
       "      <td>5</td>\n",
       "      <td>0.70</td>\n",
       "      <td>Premium</td>\n",
       "      <td>H</td>\n",
       "      <td>VVS2</td>\n",
       "      <td>61.0</td>\n",
       "      <td>57.0</td>\n",
       "      <td>2596</td>\n",
       "      <td>5.76</td>\n",
       "      <td>5.72</td>\n",
       "      <td>3.50</td>\n",
       "    </tr>\n",
       "  </tbody>\n",
       "</table>\n",
       "</div>"
      ],
      "text/plain": [
       "   Id  carat      cut color clarity  depth  table  price     x     y     z\n",
       "0   1   1.06    Ideal     I     SI2   61.8   57.0   4270  6.57  6.60  4.07\n",
       "1   2   1.51  Premium     G    VVS2   60.9   58.0  15164  7.38  7.42  4.51\n",
       "2   3   0.32    Ideal     F     VS2   61.3   56.0    828  4.43  4.41  2.71\n",
       "3   4   0.53    Ideal     G     VS2   61.2   56.0   1577  5.19  5.22  3.19\n",
       "4   5   0.70  Premium     H    VVS2   61.0   57.0   2596  5.76  5.72  3.50"
      ]
     },
     "execution_count": 3,
     "metadata": {},
     "output_type": "execute_result"
    }
   ],
   "source": [
    "df_train.head()"
   ]
  },
  {
   "cell_type": "code",
   "execution_count": 4,
   "id": "661d7429",
   "metadata": {
    "execution": {
     "iopub.execute_input": "2023-05-07T17:18:03.132813Z",
     "iopub.status.busy": "2023-05-07T17:18:03.132523Z",
     "iopub.status.idle": "2023-05-07T17:18:03.145896Z",
     "shell.execute_reply": "2023-05-07T17:18:03.144929Z"
    },
    "papermill": {
     "duration": 0.026835,
     "end_time": "2023-05-07T17:18:03.148740",
     "exception": false,
     "start_time": "2023-05-07T17:18:03.121905",
     "status": "completed"
    },
    "tags": []
   },
   "outputs": [
    {
     "data": {
      "text/html": [
       "<div>\n",
       "<style scoped>\n",
       "    .dataframe tbody tr th:only-of-type {\n",
       "        vertical-align: middle;\n",
       "    }\n",
       "\n",
       "    .dataframe tbody tr th {\n",
       "        vertical-align: top;\n",
       "    }\n",
       "\n",
       "    .dataframe thead th {\n",
       "        text-align: right;\n",
       "    }\n",
       "</style>\n",
       "<table border=\"1\" class=\"dataframe\">\n",
       "  <thead>\n",
       "    <tr style=\"text-align: right;\">\n",
       "      <th></th>\n",
       "      <th>Id</th>\n",
       "      <th>carat</th>\n",
       "      <th>cut</th>\n",
       "      <th>color</th>\n",
       "      <th>clarity</th>\n",
       "      <th>depth</th>\n",
       "      <th>table</th>\n",
       "      <th>x</th>\n",
       "      <th>y</th>\n",
       "      <th>z</th>\n",
       "    </tr>\n",
       "  </thead>\n",
       "  <tbody>\n",
       "    <tr>\n",
       "      <th>0</th>\n",
       "      <td>1</td>\n",
       "      <td>0.34</td>\n",
       "      <td>Ideal</td>\n",
       "      <td>G</td>\n",
       "      <td>VVS2</td>\n",
       "      <td>61.1</td>\n",
       "      <td>57.0</td>\n",
       "      <td>4.52</td>\n",
       "      <td>4.48</td>\n",
       "      <td>2.75</td>\n",
       "    </tr>\n",
       "    <tr>\n",
       "      <th>1</th>\n",
       "      <td>2</td>\n",
       "      <td>0.71</td>\n",
       "      <td>Premium</td>\n",
       "      <td>E</td>\n",
       "      <td>VS2</td>\n",
       "      <td>62.7</td>\n",
       "      <td>58.0</td>\n",
       "      <td>5.74</td>\n",
       "      <td>5.68</td>\n",
       "      <td>3.58</td>\n",
       "    </tr>\n",
       "    <tr>\n",
       "      <th>2</th>\n",
       "      <td>3</td>\n",
       "      <td>0.44</td>\n",
       "      <td>Very Good</td>\n",
       "      <td>I</td>\n",
       "      <td>VS1</td>\n",
       "      <td>62.8</td>\n",
       "      <td>56.0</td>\n",
       "      <td>4.83</td>\n",
       "      <td>4.88</td>\n",
       "      <td>3.05</td>\n",
       "    </tr>\n",
       "    <tr>\n",
       "      <th>3</th>\n",
       "      <td>4</td>\n",
       "      <td>0.81</td>\n",
       "      <td>Premium</td>\n",
       "      <td>E</td>\n",
       "      <td>SI2</td>\n",
       "      <td>60.1</td>\n",
       "      <td>59.0</td>\n",
       "      <td>6.09</td>\n",
       "      <td>6.03</td>\n",
       "      <td>3.65</td>\n",
       "    </tr>\n",
       "    <tr>\n",
       "      <th>4</th>\n",
       "      <td>5</td>\n",
       "      <td>0.40</td>\n",
       "      <td>Ideal</td>\n",
       "      <td>G</td>\n",
       "      <td>VVS1</td>\n",
       "      <td>61.2</td>\n",
       "      <td>56.0</td>\n",
       "      <td>4.74</td>\n",
       "      <td>4.80</td>\n",
       "      <td>2.92</td>\n",
       "    </tr>\n",
       "  </tbody>\n",
       "</table>\n",
       "</div>"
      ],
      "text/plain": [
       "   Id  carat        cut color clarity  depth  table     x     y     z\n",
       "0   1   0.34      Ideal     G    VVS2   61.1   57.0  4.52  4.48  2.75\n",
       "1   2   0.71    Premium     E     VS2   62.7   58.0  5.74  5.68  3.58\n",
       "2   3   0.44  Very Good     I     VS1   62.8   56.0  4.83  4.88  3.05\n",
       "3   4   0.81    Premium     E     SI2   60.1   59.0  6.09  6.03  3.65\n",
       "4   5   0.40      Ideal     G    VVS1   61.2   56.0  4.74  4.80  2.92"
      ]
     },
     "execution_count": 4,
     "metadata": {},
     "output_type": "execute_result"
    }
   ],
   "source": [
    "df_test.head()"
   ]
  },
  {
   "cell_type": "code",
   "execution_count": 5,
   "id": "93dfbfc0",
   "metadata": {
    "execution": {
     "iopub.execute_input": "2023-05-07T17:18:03.169585Z",
     "iopub.status.busy": "2023-05-07T17:18:03.169322Z",
     "iopub.status.idle": "2023-05-07T17:18:03.235030Z",
     "shell.execute_reply": "2023-05-07T17:18:03.233889Z"
    },
    "papermill": {
     "duration": 0.078861,
     "end_time": "2023-05-07T17:18:03.237644",
     "exception": false,
     "start_time": "2023-05-07T17:18:03.158783",
     "status": "completed"
    },
    "tags": []
   },
   "outputs": [
    {
     "data": {
      "text/html": [
       "<div>\n",
       "<style scoped>\n",
       "    .dataframe tbody tr th:only-of-type {\n",
       "        vertical-align: middle;\n",
       "    }\n",
       "\n",
       "    .dataframe tbody tr th {\n",
       "        vertical-align: top;\n",
       "    }\n",
       "\n",
       "    .dataframe thead th {\n",
       "        text-align: right;\n",
       "    }\n",
       "</style>\n",
       "<table border=\"1\" class=\"dataframe\">\n",
       "  <thead>\n",
       "    <tr style=\"text-align: right;\">\n",
       "      <th></th>\n",
       "      <th>Id</th>\n",
       "      <th>carat</th>\n",
       "      <th>cut</th>\n",
       "      <th>color</th>\n",
       "      <th>clarity</th>\n",
       "      <th>depth</th>\n",
       "      <th>table</th>\n",
       "      <th>price</th>\n",
       "      <th>x</th>\n",
       "      <th>y</th>\n",
       "      <th>z</th>\n",
       "    </tr>\n",
       "  </thead>\n",
       "  <tbody>\n",
       "    <tr>\n",
       "      <th>count</th>\n",
       "      <td>43152.000000</td>\n",
       "      <td>43152.000000</td>\n",
       "      <td>43152</td>\n",
       "      <td>43152</td>\n",
       "      <td>43152</td>\n",
       "      <td>43152.000000</td>\n",
       "      <td>43152.000000</td>\n",
       "      <td>43152.000000</td>\n",
       "      <td>43152.000000</td>\n",
       "      <td>43152.000000</td>\n",
       "      <td>43152.000000</td>\n",
       "    </tr>\n",
       "    <tr>\n",
       "      <th>unique</th>\n",
       "      <td>NaN</td>\n",
       "      <td>NaN</td>\n",
       "      <td>5</td>\n",
       "      <td>7</td>\n",
       "      <td>8</td>\n",
       "      <td>NaN</td>\n",
       "      <td>NaN</td>\n",
       "      <td>NaN</td>\n",
       "      <td>NaN</td>\n",
       "      <td>NaN</td>\n",
       "      <td>NaN</td>\n",
       "    </tr>\n",
       "    <tr>\n",
       "      <th>top</th>\n",
       "      <td>NaN</td>\n",
       "      <td>NaN</td>\n",
       "      <td>Ideal</td>\n",
       "      <td>G</td>\n",
       "      <td>SI1</td>\n",
       "      <td>NaN</td>\n",
       "      <td>NaN</td>\n",
       "      <td>NaN</td>\n",
       "      <td>NaN</td>\n",
       "      <td>NaN</td>\n",
       "      <td>NaN</td>\n",
       "    </tr>\n",
       "    <tr>\n",
       "      <th>freq</th>\n",
       "      <td>NaN</td>\n",
       "      <td>NaN</td>\n",
       "      <td>17203</td>\n",
       "      <td>9060</td>\n",
       "      <td>10428</td>\n",
       "      <td>NaN</td>\n",
       "      <td>NaN</td>\n",
       "      <td>NaN</td>\n",
       "      <td>NaN</td>\n",
       "      <td>NaN</td>\n",
       "      <td>NaN</td>\n",
       "    </tr>\n",
       "    <tr>\n",
       "      <th>mean</th>\n",
       "      <td>21576.500000</td>\n",
       "      <td>0.797855</td>\n",
       "      <td>NaN</td>\n",
       "      <td>NaN</td>\n",
       "      <td>NaN</td>\n",
       "      <td>61.747177</td>\n",
       "      <td>57.458347</td>\n",
       "      <td>3929.491912</td>\n",
       "      <td>5.731568</td>\n",
       "      <td>5.735018</td>\n",
       "      <td>3.538568</td>\n",
       "    </tr>\n",
       "    <tr>\n",
       "      <th>std</th>\n",
       "      <td>12457.053745</td>\n",
       "      <td>0.473594</td>\n",
       "      <td>NaN</td>\n",
       "      <td>NaN</td>\n",
       "      <td>NaN</td>\n",
       "      <td>1.435454</td>\n",
       "      <td>2.233904</td>\n",
       "      <td>3985.527795</td>\n",
       "      <td>1.121279</td>\n",
       "      <td>1.148809</td>\n",
       "      <td>0.708238</td>\n",
       "    </tr>\n",
       "    <tr>\n",
       "      <th>min</th>\n",
       "      <td>1.000000</td>\n",
       "      <td>0.200000</td>\n",
       "      <td>NaN</td>\n",
       "      <td>NaN</td>\n",
       "      <td>NaN</td>\n",
       "      <td>43.000000</td>\n",
       "      <td>43.000000</td>\n",
       "      <td>326.000000</td>\n",
       "      <td>0.000000</td>\n",
       "      <td>0.000000</td>\n",
       "      <td>0.000000</td>\n",
       "    </tr>\n",
       "    <tr>\n",
       "      <th>25%</th>\n",
       "      <td>10788.750000</td>\n",
       "      <td>0.400000</td>\n",
       "      <td>NaN</td>\n",
       "      <td>NaN</td>\n",
       "      <td>NaN</td>\n",
       "      <td>61.000000</td>\n",
       "      <td>56.000000</td>\n",
       "      <td>947.750000</td>\n",
       "      <td>4.710000</td>\n",
       "      <td>4.720000</td>\n",
       "      <td>2.910000</td>\n",
       "    </tr>\n",
       "    <tr>\n",
       "      <th>50%</th>\n",
       "      <td>21576.500000</td>\n",
       "      <td>0.700000</td>\n",
       "      <td>NaN</td>\n",
       "      <td>NaN</td>\n",
       "      <td>NaN</td>\n",
       "      <td>61.800000</td>\n",
       "      <td>57.000000</td>\n",
       "      <td>2401.000000</td>\n",
       "      <td>5.700000</td>\n",
       "      <td>5.710000</td>\n",
       "      <td>3.530000</td>\n",
       "    </tr>\n",
       "    <tr>\n",
       "      <th>75%</th>\n",
       "      <td>32364.250000</td>\n",
       "      <td>1.040000</td>\n",
       "      <td>NaN</td>\n",
       "      <td>NaN</td>\n",
       "      <td>NaN</td>\n",
       "      <td>62.500000</td>\n",
       "      <td>59.000000</td>\n",
       "      <td>5312.000000</td>\n",
       "      <td>6.540000</td>\n",
       "      <td>6.540000</td>\n",
       "      <td>4.040000</td>\n",
       "    </tr>\n",
       "    <tr>\n",
       "      <th>max</th>\n",
       "      <td>43152.000000</td>\n",
       "      <td>5.010000</td>\n",
       "      <td>NaN</td>\n",
       "      <td>NaN</td>\n",
       "      <td>NaN</td>\n",
       "      <td>79.000000</td>\n",
       "      <td>95.000000</td>\n",
       "      <td>18823.000000</td>\n",
       "      <td>10.740000</td>\n",
       "      <td>58.900000</td>\n",
       "      <td>31.800000</td>\n",
       "    </tr>\n",
       "  </tbody>\n",
       "</table>\n",
       "</div>"
      ],
      "text/plain": [
       "                  Id         carat    cut  color clarity         depth  \\\n",
       "count   43152.000000  43152.000000  43152  43152   43152  43152.000000   \n",
       "unique           NaN           NaN      5      7       8           NaN   \n",
       "top              NaN           NaN  Ideal      G     SI1           NaN   \n",
       "freq             NaN           NaN  17203   9060   10428           NaN   \n",
       "mean    21576.500000      0.797855    NaN    NaN     NaN     61.747177   \n",
       "std     12457.053745      0.473594    NaN    NaN     NaN      1.435454   \n",
       "min         1.000000      0.200000    NaN    NaN     NaN     43.000000   \n",
       "25%     10788.750000      0.400000    NaN    NaN     NaN     61.000000   \n",
       "50%     21576.500000      0.700000    NaN    NaN     NaN     61.800000   \n",
       "75%     32364.250000      1.040000    NaN    NaN     NaN     62.500000   \n",
       "max     43152.000000      5.010000    NaN    NaN     NaN     79.000000   \n",
       "\n",
       "               table         price             x             y             z  \n",
       "count   43152.000000  43152.000000  43152.000000  43152.000000  43152.000000  \n",
       "unique           NaN           NaN           NaN           NaN           NaN  \n",
       "top              NaN           NaN           NaN           NaN           NaN  \n",
       "freq             NaN           NaN           NaN           NaN           NaN  \n",
       "mean       57.458347   3929.491912      5.731568      5.735018      3.538568  \n",
       "std         2.233904   3985.527795      1.121279      1.148809      0.708238  \n",
       "min        43.000000    326.000000      0.000000      0.000000      0.000000  \n",
       "25%        56.000000    947.750000      4.710000      4.720000      2.910000  \n",
       "50%        57.000000   2401.000000      5.700000      5.710000      3.530000  \n",
       "75%        59.000000   5312.000000      6.540000      6.540000      4.040000  \n",
       "max        95.000000  18823.000000     10.740000     58.900000     31.800000  "
      ]
     },
     "execution_count": 5,
     "metadata": {},
     "output_type": "execute_result"
    }
   ],
   "source": [
    "df_train.describe(include='all')"
   ]
  },
  {
   "cell_type": "markdown",
   "id": "3a869869",
   "metadata": {
    "papermill": {
     "duration": 0.010058,
     "end_time": "2023-05-07T17:18:03.258968",
     "exception": false,
     "start_time": "2023-05-07T17:18:03.248910",
     "status": "completed"
    },
    "tags": []
   },
   "source": [
    "#### Train data is clean and has no skewness except in the price column where the prices are highl right skewed and need transformation."
   ]
  },
  {
   "cell_type": "code",
   "execution_count": 6,
   "id": "47c993d9",
   "metadata": {
    "execution": {
     "iopub.execute_input": "2023-05-07T17:18:03.280117Z",
     "iopub.status.busy": "2023-05-07T17:18:03.279836Z",
     "iopub.status.idle": "2023-05-07T17:18:03.316302Z",
     "shell.execute_reply": "2023-05-07T17:18:03.315337Z"
    },
    "papermill": {
     "duration": 0.04918,
     "end_time": "2023-05-07T17:18:03.318241",
     "exception": false,
     "start_time": "2023-05-07T17:18:03.269061",
     "status": "completed"
    },
    "tags": []
   },
   "outputs": [
    {
     "data": {
      "text/html": [
       "<div>\n",
       "<style scoped>\n",
       "    .dataframe tbody tr th:only-of-type {\n",
       "        vertical-align: middle;\n",
       "    }\n",
       "\n",
       "    .dataframe tbody tr th {\n",
       "        vertical-align: top;\n",
       "    }\n",
       "\n",
       "    .dataframe thead th {\n",
       "        text-align: right;\n",
       "    }\n",
       "</style>\n",
       "<table border=\"1\" class=\"dataframe\">\n",
       "  <thead>\n",
       "    <tr style=\"text-align: right;\">\n",
       "      <th></th>\n",
       "      <th>Id</th>\n",
       "      <th>carat</th>\n",
       "      <th>cut</th>\n",
       "      <th>color</th>\n",
       "      <th>clarity</th>\n",
       "      <th>depth</th>\n",
       "      <th>table</th>\n",
       "      <th>x</th>\n",
       "      <th>y</th>\n",
       "      <th>z</th>\n",
       "    </tr>\n",
       "  </thead>\n",
       "  <tbody>\n",
       "    <tr>\n",
       "      <th>count</th>\n",
       "      <td>10788.000000</td>\n",
       "      <td>10788.000000</td>\n",
       "      <td>10788</td>\n",
       "      <td>10788</td>\n",
       "      <td>10788</td>\n",
       "      <td>10788.000000</td>\n",
       "      <td>10788.000000</td>\n",
       "      <td>10788.000000</td>\n",
       "      <td>10788.000000</td>\n",
       "      <td>10788.000000</td>\n",
       "    </tr>\n",
       "    <tr>\n",
       "      <th>unique</th>\n",
       "      <td>NaN</td>\n",
       "      <td>NaN</td>\n",
       "      <td>5</td>\n",
       "      <td>7</td>\n",
       "      <td>8</td>\n",
       "      <td>NaN</td>\n",
       "      <td>NaN</td>\n",
       "      <td>NaN</td>\n",
       "      <td>NaN</td>\n",
       "      <td>NaN</td>\n",
       "    </tr>\n",
       "    <tr>\n",
       "      <th>top</th>\n",
       "      <td>NaN</td>\n",
       "      <td>NaN</td>\n",
       "      <td>Ideal</td>\n",
       "      <td>G</td>\n",
       "      <td>SI1</td>\n",
       "      <td>NaN</td>\n",
       "      <td>NaN</td>\n",
       "      <td>NaN</td>\n",
       "      <td>NaN</td>\n",
       "      <td>NaN</td>\n",
       "    </tr>\n",
       "    <tr>\n",
       "      <th>freq</th>\n",
       "      <td>NaN</td>\n",
       "      <td>NaN</td>\n",
       "      <td>4348</td>\n",
       "      <td>2232</td>\n",
       "      <td>2637</td>\n",
       "      <td>NaN</td>\n",
       "      <td>NaN</td>\n",
       "      <td>NaN</td>\n",
       "      <td>NaN</td>\n",
       "      <td>NaN</td>\n",
       "    </tr>\n",
       "    <tr>\n",
       "      <th>mean</th>\n",
       "      <td>5394.500000</td>\n",
       "      <td>0.798279</td>\n",
       "      <td>NaN</td>\n",
       "      <td>NaN</td>\n",
       "      <td>NaN</td>\n",
       "      <td>61.758315</td>\n",
       "      <td>57.452531</td>\n",
       "      <td>5.729514</td>\n",
       "      <td>5.732559</td>\n",
       "      <td>3.539398</td>\n",
       "    </tr>\n",
       "    <tr>\n",
       "      <th>std</th>\n",
       "      <td>3114.371686</td>\n",
       "      <td>0.475700</td>\n",
       "      <td>NaN</td>\n",
       "      <td>NaN</td>\n",
       "      <td>NaN</td>\n",
       "      <td>1.421266</td>\n",
       "      <td>2.236933</td>\n",
       "      <td>1.123736</td>\n",
       "      <td>1.115090</td>\n",
       "      <td>0.695483</td>\n",
       "    </tr>\n",
       "    <tr>\n",
       "      <th>min</th>\n",
       "      <td>1.000000</td>\n",
       "      <td>0.200000</td>\n",
       "      <td>NaN</td>\n",
       "      <td>NaN</td>\n",
       "      <td>NaN</td>\n",
       "      <td>54.000000</td>\n",
       "      <td>50.000000</td>\n",
       "      <td>0.000000</td>\n",
       "      <td>0.000000</td>\n",
       "      <td>0.000000</td>\n",
       "    </tr>\n",
       "    <tr>\n",
       "      <th>25%</th>\n",
       "      <td>2697.750000</td>\n",
       "      <td>0.400000</td>\n",
       "      <td>NaN</td>\n",
       "      <td>NaN</td>\n",
       "      <td>NaN</td>\n",
       "      <td>61.100000</td>\n",
       "      <td>56.000000</td>\n",
       "      <td>4.720000</td>\n",
       "      <td>4.727500</td>\n",
       "      <td>2.910000</td>\n",
       "    </tr>\n",
       "    <tr>\n",
       "      <th>50%</th>\n",
       "      <td>5394.500000</td>\n",
       "      <td>0.700000</td>\n",
       "      <td>NaN</td>\n",
       "      <td>NaN</td>\n",
       "      <td>NaN</td>\n",
       "      <td>61.800000</td>\n",
       "      <td>57.000000</td>\n",
       "      <td>5.700000</td>\n",
       "      <td>5.710000</td>\n",
       "      <td>3.520000</td>\n",
       "    </tr>\n",
       "    <tr>\n",
       "      <th>75%</th>\n",
       "      <td>8091.250000</td>\n",
       "      <td>1.040000</td>\n",
       "      <td>NaN</td>\n",
       "      <td>NaN</td>\n",
       "      <td>NaN</td>\n",
       "      <td>62.500000</td>\n",
       "      <td>59.000000</td>\n",
       "      <td>6.540000</td>\n",
       "      <td>6.540000</td>\n",
       "      <td>4.030000</td>\n",
       "    </tr>\n",
       "    <tr>\n",
       "      <th>max</th>\n",
       "      <td>10788.000000</td>\n",
       "      <td>4.500000</td>\n",
       "      <td>NaN</td>\n",
       "      <td>NaN</td>\n",
       "      <td>NaN</td>\n",
       "      <td>79.000000</td>\n",
       "      <td>73.000000</td>\n",
       "      <td>10.230000</td>\n",
       "      <td>10.160000</td>\n",
       "      <td>6.720000</td>\n",
       "    </tr>\n",
       "  </tbody>\n",
       "</table>\n",
       "</div>"
      ],
      "text/plain": [
       "                  Id         carat    cut  color clarity         depth  \\\n",
       "count   10788.000000  10788.000000  10788  10788   10788  10788.000000   \n",
       "unique           NaN           NaN      5      7       8           NaN   \n",
       "top              NaN           NaN  Ideal      G     SI1           NaN   \n",
       "freq             NaN           NaN   4348   2232    2637           NaN   \n",
       "mean     5394.500000      0.798279    NaN    NaN     NaN     61.758315   \n",
       "std      3114.371686      0.475700    NaN    NaN     NaN      1.421266   \n",
       "min         1.000000      0.200000    NaN    NaN     NaN     54.000000   \n",
       "25%      2697.750000      0.400000    NaN    NaN     NaN     61.100000   \n",
       "50%      5394.500000      0.700000    NaN    NaN     NaN     61.800000   \n",
       "75%      8091.250000      1.040000    NaN    NaN     NaN     62.500000   \n",
       "max     10788.000000      4.500000    NaN    NaN     NaN     79.000000   \n",
       "\n",
       "               table             x             y             z  \n",
       "count   10788.000000  10788.000000  10788.000000  10788.000000  \n",
       "unique           NaN           NaN           NaN           NaN  \n",
       "top              NaN           NaN           NaN           NaN  \n",
       "freq             NaN           NaN           NaN           NaN  \n",
       "mean       57.452531      5.729514      5.732559      3.539398  \n",
       "std         2.236933      1.123736      1.115090      0.695483  \n",
       "min        50.000000      0.000000      0.000000      0.000000  \n",
       "25%        56.000000      4.720000      4.727500      2.910000  \n",
       "50%        57.000000      5.700000      5.710000      3.520000  \n",
       "75%        59.000000      6.540000      6.540000      4.030000  \n",
       "max        73.000000     10.230000     10.160000      6.720000  "
      ]
     },
     "execution_count": 6,
     "metadata": {},
     "output_type": "execute_result"
    }
   ],
   "source": [
    "df_test.describe(include='all')"
   ]
  },
  {
   "cell_type": "markdown",
   "id": "355a3935",
   "metadata": {
    "papermill": {
     "duration": 0.009931,
     "end_time": "2023-05-07T17:18:03.339148",
     "exception": false,
     "start_time": "2023-05-07T17:18:03.329217",
     "status": "completed"
    },
    "tags": []
   },
   "source": [
    "#### Test data is clean and there is no skewness, because the values of the mean is too close to the values in the median in all columns."
   ]
  },
  {
   "cell_type": "code",
   "execution_count": 7,
   "id": "3a246e93",
   "metadata": {
    "execution": {
     "iopub.execute_input": "2023-05-07T17:18:03.360940Z",
     "iopub.status.busy": "2023-05-07T17:18:03.360139Z",
     "iopub.status.idle": "2023-05-07T17:18:03.389251Z",
     "shell.execute_reply": "2023-05-07T17:18:03.387685Z"
    },
    "papermill": {
     "duration": 0.042053,
     "end_time": "2023-05-07T17:18:03.391241",
     "exception": false,
     "start_time": "2023-05-07T17:18:03.349188",
     "status": "completed"
    },
    "tags": []
   },
   "outputs": [
    {
     "name": "stdout",
     "output_type": "stream",
     "text": [
      "<class 'pandas.core.frame.DataFrame'>\n",
      "RangeIndex: 43152 entries, 0 to 43151\n",
      "Data columns (total 11 columns):\n",
      " #   Column   Non-Null Count  Dtype  \n",
      "---  ------   --------------  -----  \n",
      " 0   Id       43152 non-null  int64  \n",
      " 1   carat    43152 non-null  float64\n",
      " 2   cut      43152 non-null  object \n",
      " 3   color    43152 non-null  object \n",
      " 4   clarity  43152 non-null  object \n",
      " 5   depth    43152 non-null  float64\n",
      " 6   table    43152 non-null  float64\n",
      " 7   price    43152 non-null  int64  \n",
      " 8   x        43152 non-null  float64\n",
      " 9   y        43152 non-null  float64\n",
      " 10  z        43152 non-null  float64\n",
      "dtypes: float64(6), int64(2), object(3)\n",
      "memory usage: 3.6+ MB\n"
     ]
    }
   ],
   "source": [
    "df_train.info()"
   ]
  },
  {
   "cell_type": "markdown",
   "id": "e2e90a82",
   "metadata": {
    "papermill": {
     "duration": 0.010025,
     "end_time": "2023-05-07T17:18:03.411350",
     "exception": false,
     "start_time": "2023-05-07T17:18:03.401325",
     "status": "completed"
    },
    "tags": []
   },
   "source": [
    "#### There are no missing values in train data"
   ]
  },
  {
   "cell_type": "code",
   "execution_count": 8,
   "id": "b99aef41",
   "metadata": {
    "execution": {
     "iopub.execute_input": "2023-05-07T17:18:03.434749Z",
     "iopub.status.busy": "2023-05-07T17:18:03.433940Z",
     "iopub.status.idle": "2023-05-07T17:18:03.449423Z",
     "shell.execute_reply": "2023-05-07T17:18:03.447665Z"
    },
    "papermill": {
     "duration": 0.029566,
     "end_time": "2023-05-07T17:18:03.451640",
     "exception": false,
     "start_time": "2023-05-07T17:18:03.422074",
     "status": "completed"
    },
    "tags": []
   },
   "outputs": [
    {
     "name": "stdout",
     "output_type": "stream",
     "text": [
      "<class 'pandas.core.frame.DataFrame'>\n",
      "RangeIndex: 10788 entries, 0 to 10787\n",
      "Data columns (total 10 columns):\n",
      " #   Column   Non-Null Count  Dtype  \n",
      "---  ------   --------------  -----  \n",
      " 0   Id       10788 non-null  int64  \n",
      " 1   carat    10788 non-null  float64\n",
      " 2   cut      10788 non-null  object \n",
      " 3   color    10788 non-null  object \n",
      " 4   clarity  10788 non-null  object \n",
      " 5   depth    10788 non-null  float64\n",
      " 6   table    10788 non-null  float64\n",
      " 7   x        10788 non-null  float64\n",
      " 8   y        10788 non-null  float64\n",
      " 9   z        10788 non-null  float64\n",
      "dtypes: float64(6), int64(1), object(3)\n",
      "memory usage: 842.9+ KB\n"
     ]
    }
   ],
   "source": [
    "df_test.info()"
   ]
  },
  {
   "cell_type": "markdown",
   "id": "ff0dbb39",
   "metadata": {
    "papermill": {
     "duration": 0.010981,
     "end_time": "2023-05-07T17:18:03.473455",
     "exception": false,
     "start_time": "2023-05-07T17:18:03.462474",
     "status": "completed"
    },
    "tags": []
   },
   "source": [
    "#### There are no missing values in test data"
   ]
  },
  {
   "cell_type": "markdown",
   "id": "cc204e62",
   "metadata": {
    "papermill": {
     "duration": 0.012233,
     "end_time": "2023-05-07T17:18:03.497966",
     "exception": false,
     "start_time": "2023-05-07T17:18:03.485733",
     "status": "completed"
    },
    "tags": []
   },
   "source": [
    "# Data Cleaning and EDA"
   ]
  },
  {
   "cell_type": "code",
   "execution_count": 9,
   "id": "7da148ce",
   "metadata": {
    "execution": {
     "iopub.execute_input": "2023-05-07T17:18:03.524231Z",
     "iopub.status.busy": "2023-05-07T17:18:03.523283Z",
     "iopub.status.idle": "2023-05-07T17:18:03.893402Z",
     "shell.execute_reply": "2023-05-07T17:18:03.892508Z"
    },
    "papermill": {
     "duration": 0.385403,
     "end_time": "2023-05-07T17:18:03.895457",
     "exception": false,
     "start_time": "2023-05-07T17:18:03.510054",
     "status": "completed"
    },
    "tags": []
   },
   "outputs": [
    {
     "data": {
      "text/plain": [
       "<AxesSubplot: xlabel='price', ylabel='Count'>"
      ]
     },
     "execution_count": 9,
     "metadata": {},
     "output_type": "execute_result"
    },
    {
     "data": {
      "image/png": "[encoded data removed]",
      "text/plain": [
       "<Figure size 640x480 with 1 Axes>"
      ]
     },
     "metadata": {},
     "output_type": "display_data"
    }
   ],
   "source": [
    "sns.histplot(data=df_train,x='price')\n",
    "# A histogram of the price column"
   ]
  },
  {
   "cell_type": "markdown",
   "id": "604b1cec",
   "metadata": {
    "papermill": {
     "duration": 0.010579,
     "end_time": "2023-05-07T17:18:03.916930",
     "exception": false,
     "start_time": "2023-05-07T17:18:03.906351",
     "status": "completed"
    },
    "tags": []
   },
   "source": [
    "#### The prices are highly right skewed.\n",
    "#### One way of making it less skewed and more normally destributed is to log transform the column"
   ]
  },
  {
   "cell_type": "code",
   "execution_count": 10,
   "id": "407e76bd",
   "metadata": {
    "execution": {
     "iopub.execute_input": "2023-05-07T17:18:03.940362Z",
     "iopub.status.busy": "2023-05-07T17:18:03.940034Z",
     "iopub.status.idle": "2023-05-07T17:18:03.945768Z",
     "shell.execute_reply": "2023-05-07T17:18:03.944863Z"
    },
    "papermill": {
     "duration": 0.019583,
     "end_time": "2023-05-07T17:18:03.947754",
     "exception": false,
     "start_time": "2023-05-07T17:18:03.928171",
     "status": "completed"
    },
    "tags": []
   },
   "outputs": [],
   "source": [
    "df_train['log_price']=np.log(df_train['price'])"
   ]
  },
  {
   "cell_type": "code",
   "execution_count": 11,
   "id": "89b93167",
   "metadata": {
    "execution": {
     "iopub.execute_input": "2023-05-07T17:18:03.971010Z",
     "iopub.status.busy": "2023-05-07T17:18:03.970088Z",
     "iopub.status.idle": "2023-05-07T17:18:03.985173Z",
     "shell.execute_reply": "2023-05-07T17:18:03.984242Z"
    },
    "papermill": {
     "duration": 0.028752,
     "end_time": "2023-05-07T17:18:03.987033",
     "exception": false,
     "start_time": "2023-05-07T17:18:03.958281",
     "status": "completed"
    },
    "tags": []
   },
   "outputs": [
    {
     "data": {
      "text/html": [
       "<div>\n",
       "<style scoped>\n",
       "    .dataframe tbody tr th:only-of-type {\n",
       "        vertical-align: middle;\n",
       "    }\n",
       "\n",
       "    .dataframe tbody tr th {\n",
       "        vertical-align: top;\n",
       "    }\n",
       "\n",
       "    .dataframe thead th {\n",
       "        text-align: right;\n",
       "    }\n",
       "</style>\n",
       "<table border=\"1\" class=\"dataframe\">\n",
       "  <thead>\n",
       "    <tr style=\"text-align: right;\">\n",
       "      <th></th>\n",
       "      <th>Id</th>\n",
       "      <th>carat</th>\n",
       "      <th>cut</th>\n",
       "      <th>color</th>\n",
       "      <th>clarity</th>\n",
       "      <th>depth</th>\n",
       "      <th>table</th>\n",
       "      <th>price</th>\n",
       "      <th>x</th>\n",
       "      <th>y</th>\n",
       "      <th>z</th>\n",
       "      <th>log_price</th>\n",
       "    </tr>\n",
       "  </thead>\n",
       "  <tbody>\n",
       "    <tr>\n",
       "      <th>0</th>\n",
       "      <td>1</td>\n",
       "      <td>1.06</td>\n",
       "      <td>Ideal</td>\n",
       "      <td>I</td>\n",
       "      <td>SI2</td>\n",
       "      <td>61.8</td>\n",
       "      <td>57.0</td>\n",
       "      <td>4270</td>\n",
       "      <td>6.57</td>\n",
       "      <td>6.60</td>\n",
       "      <td>4.07</td>\n",
       "      <td>8.359369</td>\n",
       "    </tr>\n",
       "    <tr>\n",
       "      <th>1</th>\n",
       "      <td>2</td>\n",
       "      <td>1.51</td>\n",
       "      <td>Premium</td>\n",
       "      <td>G</td>\n",
       "      <td>VVS2</td>\n",
       "      <td>60.9</td>\n",
       "      <td>58.0</td>\n",
       "      <td>15164</td>\n",
       "      <td>7.38</td>\n",
       "      <td>7.42</td>\n",
       "      <td>4.51</td>\n",
       "      <td>9.626679</td>\n",
       "    </tr>\n",
       "    <tr>\n",
       "      <th>2</th>\n",
       "      <td>3</td>\n",
       "      <td>0.32</td>\n",
       "      <td>Ideal</td>\n",
       "      <td>F</td>\n",
       "      <td>VS2</td>\n",
       "      <td>61.3</td>\n",
       "      <td>56.0</td>\n",
       "      <td>828</td>\n",
       "      <td>4.43</td>\n",
       "      <td>4.41</td>\n",
       "      <td>2.71</td>\n",
       "      <td>6.719013</td>\n",
       "    </tr>\n",
       "    <tr>\n",
       "      <th>3</th>\n",
       "      <td>4</td>\n",
       "      <td>0.53</td>\n",
       "      <td>Ideal</td>\n",
       "      <td>G</td>\n",
       "      <td>VS2</td>\n",
       "      <td>61.2</td>\n",
       "      <td>56.0</td>\n",
       "      <td>1577</td>\n",
       "      <td>5.19</td>\n",
       "      <td>5.22</td>\n",
       "      <td>3.19</td>\n",
       "      <td>7.363280</td>\n",
       "    </tr>\n",
       "    <tr>\n",
       "      <th>4</th>\n",
       "      <td>5</td>\n",
       "      <td>0.70</td>\n",
       "      <td>Premium</td>\n",
       "      <td>H</td>\n",
       "      <td>VVS2</td>\n",
       "      <td>61.0</td>\n",
       "      <td>57.0</td>\n",
       "      <td>2596</td>\n",
       "      <td>5.76</td>\n",
       "      <td>5.72</td>\n",
       "      <td>3.50</td>\n",
       "      <td>7.861727</td>\n",
       "    </tr>\n",
       "  </tbody>\n",
       "</table>\n",
       "</div>"
      ],
      "text/plain": [
       "   Id  carat      cut color clarity  depth  table  price     x     y     z  \\\n",
       "0   1   1.06    Ideal     I     SI2   61.8   57.0   4270  6.57  6.60  4.07   \n",
       "1   2   1.51  Premium     G    VVS2   60.9   58.0  15164  7.38  7.42  4.51   \n",
       "2   3   0.32    Ideal     F     VS2   61.3   56.0    828  4.43  4.41  2.71   \n",
       "3   4   0.53    Ideal     G     VS2   61.2   56.0   1577  5.19  5.22  3.19   \n",
       "4   5   0.70  Premium     H    VVS2   61.0   57.0   2596  5.76  5.72  3.50   \n",
       "\n",
       "   log_price  \n",
       "0   8.359369  \n",
       "1   9.626679  \n",
       "2   6.719013  \n",
       "3   7.363280  \n",
       "4   7.861727  "
      ]
     },
     "execution_count": 11,
     "metadata": {},
     "output_type": "execute_result"
    }
   ],
   "source": [
    "df_train.head()"
   ]
  },
  {
   "cell_type": "code",
   "execution_count": 12,
   "id": "4b72e18d",
   "metadata": {
    "execution": {
     "iopub.execute_input": "2023-05-07T17:18:04.010567Z",
     "iopub.status.busy": "2023-05-07T17:18:04.009702Z",
     "iopub.status.idle": "2023-05-07T17:18:04.324426Z",
     "shell.execute_reply": "2023-05-07T17:18:04.323590Z"
    },
    "papermill": {
     "duration": 0.328508,
     "end_time": "2023-05-07T17:18:04.326544",
     "exception": false,
     "start_time": "2023-05-07T17:18:03.998036",
     "status": "completed"
    },
    "tags": []
   },
   "outputs": [
    {
     "data": {
      "text/plain": [
       "<AxesSubplot: xlabel='log_price', ylabel='Count'>"
      ]
     },
     "execution_count": 12,
     "metadata": {},
     "output_type": "execute_result"
    },
    {
     "data": {
      "image/png": "[encoded data removed]",
      "text/plain": [
       "<Figure size 640x480 with 1 Axes>"
      ]
     },
     "metadata": {},
     "output_type": "display_data"
    }
   ],
   "source": [
    "sns.histplot(data=df_train,x='log_price')\n",
    "# A histogram of the log_price column"
   ]
  },
  {
   "cell_type": "code",
   "execution_count": 13,
   "id": "30f8b8ae",
   "metadata": {
    "execution": {
     "iopub.execute_input": "2023-05-07T17:18:04.350353Z",
     "iopub.status.busy": "2023-05-07T17:18:04.350064Z",
     "iopub.status.idle": "2023-05-07T17:18:04.753429Z",
     "shell.execute_reply": "2023-05-07T17:18:04.752522Z"
    },
    "papermill": {
     "duration": 0.417426,
     "end_time": "2023-05-07T17:18:04.755414",
     "exception": false,
     "start_time": "2023-05-07T17:18:04.337988",
     "status": "completed"
    },
    "tags": []
   },
   "outputs": [
    {
     "data": {
      "text/plain": [
       "<AxesSubplot: xlabel='carat', ylabel='Count'>"
      ]
     },
     "execution_count": 13,
     "metadata": {},
     "output_type": "execute_result"
    },
    {
     "data": {
      "image/png": "[encoded data removed]",
      "text/plain": [
       "<Figure size 640x480 with 1 Axes>"
      ]
     },
     "metadata": {},
     "output_type": "display_data"
    }
   ],
   "source": [
    "sns.histplot(data=df_train,x=\"carat\")\n",
    "# A histogram of the carat column"
   ]
  },
  {
   "cell_type": "code",
   "execution_count": 14,
   "id": "a5661db6",
   "metadata": {
    "execution": {
     "iopub.execute_input": "2023-05-07T17:18:04.780034Z",
     "iopub.status.busy": "2023-05-07T17:18:04.779737Z",
     "iopub.status.idle": "2023-05-07T17:18:05.566416Z",
     "shell.execute_reply": "2023-05-07T17:18:05.565574Z"
    },
    "papermill": {
     "duration": 0.801283,
     "end_time": "2023-05-07T17:18:05.568502",
     "exception": false,
     "start_time": "2023-05-07T17:18:04.767219",
     "status": "completed"
    },
    "tags": []
   },
   "outputs": [
    {
     "data": {
      "text/plain": [
       "<AxesSubplot: xlabel='depth', ylabel='Count'>"
      ]
     },
     "execution_count": 14,
     "metadata": {},
     "output_type": "execute_result"
    },
    {
     "data": {
      "image/png": "[encoded data removed]",
      "text/plain": [
       "<Figure size 640x480 with 1 Axes>"
      ]
     },
     "metadata": {},
     "output_type": "display_data"
    }
   ],
   "source": [
    "sns.histplot(data=df_train,x=\"depth\")\n",
    "# A histogram of the depth column"
   ]
  },
  {
   "cell_type": "code",
   "execution_count": 15,
   "id": "b5342fdd",
   "metadata": {
    "execution": {
     "iopub.execute_input": "2023-05-07T17:18:05.593726Z",
     "iopub.status.busy": "2023-05-07T17:18:05.593423Z",
     "iopub.status.idle": "2023-05-07T17:18:06.023732Z",
     "shell.execute_reply": "2023-05-07T17:18:06.022681Z"
    },
    "papermill": {
     "duration": 0.446024,
     "end_time": "2023-05-07T17:18:06.026732",
     "exception": false,
     "start_time": "2023-05-07T17:18:05.580708",
     "status": "completed"
    },
    "tags": []
   },
   "outputs": [
    {
     "data": {
      "text/plain": [
       "<AxesSubplot: xlabel='table', ylabel='Count'>"
      ]
     },
     "execution_count": 15,
     "metadata": {},
     "output_type": "execute_result"
    },
    {
     "data": {
      "image/png": "[encoded data removed]",
      "text/plain": [
       "<Figure size 640x480 with 1 Axes>"
      ]
     },
     "metadata": {},
     "output_type": "display_data"
    }
   ],
   "source": [
    "sns.histplot(data=df_train,x=\"table\",bins=50)\n",
    "# A histogram of the table column"
   ]
  },
  {
   "cell_type": "code",
   "execution_count": 16,
   "id": "efdd5406",
   "metadata": {
    "execution": {
     "iopub.execute_input": "2023-05-07T17:18:06.053941Z",
     "iopub.status.busy": "2023-05-07T17:18:06.053655Z",
     "iopub.status.idle": "2023-05-07T17:18:06.378385Z",
     "shell.execute_reply": "2023-05-07T17:18:06.377507Z"
    },
    "papermill": {
     "duration": 0.339867,
     "end_time": "2023-05-07T17:18:06.380483",
     "exception": false,
     "start_time": "2023-05-07T17:18:06.040616",
     "status": "completed"
    },
    "tags": []
   },
   "outputs": [
    {
     "data": {
      "text/plain": [
       "<AxesSubplot: xlabel='x', ylabel='Count'>"
      ]
     },
     "execution_count": 16,
     "metadata": {},
     "output_type": "execute_result"
    },
    {
     "data": {
      "image/png": "[encoded data removed]",
      "text/plain": [
       "<Figure size 640x480 with 1 Axes>"
      ]
     },
     "metadata": {},
     "output_type": "display_data"
    }
   ],
   "source": [
    "sns.histplot(data=df_train,x=\"x\",bins=50)\n",
    "# A histogram of the x column"
   ]
  },
  {
   "cell_type": "code",
   "execution_count": 17,
   "id": "b4157554",
   "metadata": {
    "execution": {
     "iopub.execute_input": "2023-05-07T17:18:06.407031Z",
     "iopub.status.busy": "2023-05-07T17:18:06.406746Z",
     "iopub.status.idle": "2023-05-07T17:18:06.723391Z",
     "shell.execute_reply": "2023-05-07T17:18:06.722485Z"
    },
    "papermill": {
     "duration": 0.332268,
     "end_time": "2023-05-07T17:18:06.725568",
     "exception": false,
     "start_time": "2023-05-07T17:18:06.393300",
     "status": "completed"
    },
    "tags": []
   },
   "outputs": [
    {
     "data": {
      "text/plain": [
       "<AxesSubplot: xlabel='y', ylabel='Count'>"
      ]
     },
     "execution_count": 17,
     "metadata": {},
     "output_type": "execute_result"
    },
    {
     "data": {
      "image/png": "[encoded data removed]",
      "text/plain": [
       "<Figure size 640x480 with 1 Axes>"
      ]
     },
     "metadata": {},
     "output_type": "display_data"
    }
   ],
   "source": [
    "sns.histplot(data=df_train,x=\"y\",bins=50)\n",
    "# A histogram of the y column"
   ]
  },
  {
   "cell_type": "code",
   "execution_count": 18,
   "id": "8f91bd3e",
   "metadata": {
    "execution": {
     "iopub.execute_input": "2023-05-07T17:18:06.754030Z",
     "iopub.status.busy": "2023-05-07T17:18:06.753035Z",
     "iopub.status.idle": "2023-05-07T17:18:07.059373Z",
     "shell.execute_reply": "2023-05-07T17:18:07.058480Z"
    },
    "papermill": {
     "duration": 0.322612,
     "end_time": "2023-05-07T17:18:07.061423",
     "exception": false,
     "start_time": "2023-05-07T17:18:06.738811",
     "status": "completed"
    },
    "tags": []
   },
   "outputs": [
    {
     "data": {
      "text/plain": [
       "<AxesSubplot: xlabel='z', ylabel='Count'>"
      ]
     },
     "execution_count": 18,
     "metadata": {},
     "output_type": "execute_result"
    },
    {
     "data": {
      "image/png": "[encoded data removed]",
      "text/plain": [
       "<Figure size 640x480 with 1 Axes>"
      ]
     },
     "metadata": {},
     "output_type": "display_data"
    }
   ],
   "source": [
    "sns.histplot(data=df_train,x=\"z\",bins=50)\n",
    "# A histogram of the z column"
   ]
  },
  {
   "cell_type": "code",
   "execution_count": null,
   "id": "9b630109",
   "metadata": {
    "papermill": {
     "duration": 0.014678,
     "end_time": "2023-05-07T17:18:07.089947",
     "exception": false,
     "start_time": "2023-05-07T17:18:07.075269",
     "status": "completed"
    },
    "tags": []
   },
   "outputs": [],
   "source": []
  },
  {
   "cell_type": "code",
   "execution_count": 19,
   "id": "313e2cb4",
   "metadata": {
    "execution": {
     "iopub.execute_input": "2023-05-07T17:18:07.117764Z",
     "iopub.status.busy": "2023-05-07T17:18:07.117434Z",
     "iopub.status.idle": "2023-05-07T17:18:07.623456Z",
     "shell.execute_reply": "2023-05-07T17:18:07.622559Z"
    },
    "papermill": {
     "duration": 0.522467,
     "end_time": "2023-05-07T17:18:07.625581",
     "exception": false,
     "start_time": "2023-05-07T17:18:07.103114",
     "status": "completed"
    },
    "tags": []
   },
   "outputs": [
    {
     "name": "stderr",
     "output_type": "stream",
     "text": [
      "/tmp/ipykernel_23/32805090.py:1: FutureWarning: The default value of numeric_only in DataFrame.corr is deprecated. In a future version, it will default to False. Select only valid columns or specify the value of numeric_only to silence this warning.\n",
      "  sns.heatmap(df_train.corr(),annot=True)\n"
     ]
    },
    {
     "data": {
      "text/plain": [
       "<AxesSubplot: >"
      ]
     },
     "execution_count": 19,
     "metadata": {},
     "output_type": "execute_result"
    },
    {
     "data": {
      "image/png": "[encoded data removed]",
      "text/plain": [
       "<Figure size 640x480 with 2 Axes>"
      ]
     },
     "metadata": {},
     "output_type": "display_data"
    }
   ],
   "source": [
    "sns.heatmap(df_train.corr(),annot=True)\n",
    "# A correlation matrix represents the continuous variables "
   ]
  },
  {
   "cell_type": "markdown",
   "id": "2c3263a7",
   "metadata": {
    "papermill": {
     "duration": 0.013822,
     "end_time": "2023-05-07T17:18:07.653900",
     "exception": false,
     "start_time": "2023-05-07T17:18:07.640078",
     "status": "completed"
    },
    "tags": []
   },
   "source": [
    "We see that carat, x, y, and z are highly correlated with log_price"
   ]
  },
  {
   "cell_type": "code",
   "execution_count": 20,
   "id": "7ca8d6f3",
   "metadata": {
    "execution": {
     "iopub.execute_input": "2023-05-07T17:18:07.683466Z",
     "iopub.status.busy": "2023-05-07T17:18:07.683153Z",
     "iopub.status.idle": "2023-05-07T17:18:07.911147Z",
     "shell.execute_reply": "2023-05-07T17:18:07.910259Z"
    },
    "papermill": {
     "duration": 0.245238,
     "end_time": "2023-05-07T17:18:07.913238",
     "exception": false,
     "start_time": "2023-05-07T17:18:07.668000",
     "status": "completed"
    },
    "tags": []
   },
   "outputs": [
    {
     "data": {
      "text/plain": [
       "<AxesSubplot: xlabel='cut', ylabel='count'>"
      ]
     },
     "execution_count": 20,
     "metadata": {},
     "output_type": "execute_result"
    },
    {
     "data": {
      "image/png": "[encoded data removed]",
      "text/plain": [
       "<Figure size 640x480 with 1 Axes>"
      ]
     },
     "metadata": {},
     "output_type": "display_data"
    }
   ],
   "source": [
    "sns.countplot(data=df_train,x='cut')\n",
    "# A count plot represents the cuts"
   ]
  },
  {
   "cell_type": "code",
   "execution_count": 21,
   "id": "9c34ea32",
   "metadata": {
    "execution": {
     "iopub.execute_input": "2023-05-07T17:18:07.946942Z",
     "iopub.status.busy": "2023-05-07T17:18:07.945214Z",
     "iopub.status.idle": "2023-05-07T17:18:08.169169Z",
     "shell.execute_reply": "2023-05-07T17:18:08.168218Z"
    },
    "papermill": {
     "duration": 0.242991,
     "end_time": "2023-05-07T17:18:08.171405",
     "exception": false,
     "start_time": "2023-05-07T17:18:07.928414",
     "status": "completed"
    },
    "tags": []
   },
   "outputs": [
    {
     "data": {
      "text/plain": [
       "<AxesSubplot: xlabel='color', ylabel='count'>"
      ]
     },
     "execution_count": 21,
     "metadata": {},
     "output_type": "execute_result"
    },
    {
     "data": {
      "image/png": "[encoded data removed]",
      "text/plain": [
       "<Figure size 640x480 with 1 Axes>"
      ]
     },
     "metadata": {},
     "output_type": "display_data"
    }
   ],
   "source": [
    "sns.countplot(data=df_train,x='color')\n",
    "# A count plot represents the colors"
   ]
  },
  {
   "cell_type": "code",
   "execution_count": 22,
   "id": "a34e38a3",
   "metadata": {
    "execution": {
     "iopub.execute_input": "2023-05-07T17:18:08.202799Z",
     "iopub.status.busy": "2023-05-07T17:18:08.202041Z",
     "iopub.status.idle": "2023-05-07T17:18:08.439653Z",
     "shell.execute_reply": "2023-05-07T17:18:08.438756Z"
    },
    "papermill": {
     "duration": 0.255109,
     "end_time": "2023-05-07T17:18:08.441501",
     "exception": false,
     "start_time": "2023-05-07T17:18:08.186392",
     "status": "completed"
    },
    "tags": []
   },
   "outputs": [
    {
     "data": {
      "text/plain": [
       "<AxesSubplot: xlabel='clarity', ylabel='count'>"
      ]
     },
     "execution_count": 22,
     "metadata": {},
     "output_type": "execute_result"
    },
    {
     "data": {
      "image/png": "[encoded data removed]",
      "text/plain": [
       "<Figure size 640x480 with 1 Axes>"
      ]
     },
     "metadata": {},
     "output_type": "display_data"
    }
   ],
   "source": [
    "sns.countplot(data=df_train,x='clarity')\n",
    "# A count plot represents the clarities"
   ]
  },
  {
   "cell_type": "code",
   "execution_count": 23,
   "id": "97beadf2",
   "metadata": {
    "execution": {
     "iopub.execute_input": "2023-05-07T17:18:08.474887Z",
     "iopub.status.busy": "2023-05-07T17:18:08.473200Z",
     "iopub.status.idle": "2023-05-07T17:18:08.499437Z",
     "shell.execute_reply": "2023-05-07T17:18:08.498552Z"
    },
    "papermill": {
     "duration": 0.044447,
     "end_time": "2023-05-07T17:18:08.501421",
     "exception": false,
     "start_time": "2023-05-07T17:18:08.456974",
     "status": "completed"
    },
    "tags": []
   },
   "outputs": [],
   "source": [
    "df_pivot=df_train.pivot_table(values='price',index='color',columns='cut',aggfunc='mean',sort=True)"
   ]
  },
  {
   "cell_type": "code",
   "execution_count": 24,
   "id": "ea643c16",
   "metadata": {
    "execution": {
     "iopub.execute_input": "2023-05-07T17:18:08.532898Z",
     "iopub.status.busy": "2023-05-07T17:18:08.532615Z",
     "iopub.status.idle": "2023-05-07T17:18:08.863730Z",
     "shell.execute_reply": "2023-05-07T17:18:08.862843Z"
    },
    "papermill": {
     "duration": 0.349079,
     "end_time": "2023-05-07T17:18:08.865766",
     "exception": false,
     "start_time": "2023-05-07T17:18:08.516687",
     "status": "completed"
    },
    "tags": []
   },
   "outputs": [
    {
     "data": {
      "image/png": "[encoded data removed]",
      "text/plain": [
       "<Figure size 640x480 with 2 Axes>"
      ]
     },
     "metadata": {},
     "output_type": "display_data"
    }
   ],
   "source": [
    "swarm_plot = sns.heatmap(df_pivot, cmap=\"YlGnBu\", annot=True, cbar=True)\n",
    "plt.show()"
   ]
  },
  {
   "cell_type": "code",
   "execution_count": 25,
   "id": "81ea51a8",
   "metadata": {
    "execution": {
     "iopub.execute_input": "2023-05-07T17:18:08.899630Z",
     "iopub.status.busy": "2023-05-07T17:18:08.898816Z",
     "iopub.status.idle": "2023-05-07T17:18:15.178897Z",
     "shell.execute_reply": "2023-05-07T17:18:15.178031Z"
    },
    "papermill": {
     "duration": 6.298908,
     "end_time": "2023-05-07T17:18:15.180837",
     "exception": false,
     "start_time": "2023-05-07T17:18:08.881929",
     "status": "completed"
    },
    "tags": []
   },
   "outputs": [
    {
     "data": {
      "text/plain": [
       "(0.0, 14.682782939817203)"
      ]
     },
     "execution_count": 25,
     "metadata": {},
     "output_type": "execute_result"
    },
    {
     "data": {
      "image/png": "[encoded data removed]",
      "text/plain": [
       "<Figure size 640x480 with 1 Axes>"
      ]
     },
     "metadata": {},
     "output_type": "display_data"
    }
   ],
   "source": [
    "sns.regplot(data=df_train,x='carat',y='log_price',order=3)\n",
    "plt.ylim(0)"
   ]
  },
  {
   "cell_type": "code",
   "execution_count": 26,
   "id": "8235fba6",
   "metadata": {
    "execution": {
     "iopub.execute_input": "2023-05-07T17:18:15.214767Z",
     "iopub.status.busy": "2023-05-07T17:18:15.214461Z",
     "iopub.status.idle": "2023-05-07T17:18:15.229868Z",
     "shell.execute_reply": "2023-05-07T17:18:15.228924Z"
    },
    "papermill": {
     "duration": 0.034429,
     "end_time": "2023-05-07T17:18:15.231858",
     "exception": false,
     "start_time": "2023-05-07T17:18:15.197429",
     "status": "completed"
    },
    "tags": []
   },
   "outputs": [
    {
     "data": {
      "text/html": [
       "<div>\n",
       "<style scoped>\n",
       "    .dataframe tbody tr th:only-of-type {\n",
       "        vertical-align: middle;\n",
       "    }\n",
       "\n",
       "    .dataframe tbody tr th {\n",
       "        vertical-align: top;\n",
       "    }\n",
       "\n",
       "    .dataframe thead th {\n",
       "        text-align: right;\n",
       "    }\n",
       "</style>\n",
       "<table border=\"1\" class=\"dataframe\">\n",
       "  <thead>\n",
       "    <tr style=\"text-align: right;\">\n",
       "      <th></th>\n",
       "      <th>Id</th>\n",
       "      <th>carat</th>\n",
       "      <th>cut</th>\n",
       "      <th>color</th>\n",
       "      <th>clarity</th>\n",
       "      <th>depth</th>\n",
       "      <th>table</th>\n",
       "      <th>price</th>\n",
       "      <th>x</th>\n",
       "      <th>y</th>\n",
       "      <th>z</th>\n",
       "      <th>log_price</th>\n",
       "    </tr>\n",
       "  </thead>\n",
       "  <tbody>\n",
       "    <tr>\n",
       "      <th>0</th>\n",
       "      <td>1</td>\n",
       "      <td>1.06</td>\n",
       "      <td>Ideal</td>\n",
       "      <td>I</td>\n",
       "      <td>SI2</td>\n",
       "      <td>61.8</td>\n",
       "      <td>57.0</td>\n",
       "      <td>4270</td>\n",
       "      <td>6.57</td>\n",
       "      <td>6.60</td>\n",
       "      <td>4.07</td>\n",
       "      <td>8.359369</td>\n",
       "    </tr>\n",
       "    <tr>\n",
       "      <th>1</th>\n",
       "      <td>2</td>\n",
       "      <td>1.51</td>\n",
       "      <td>Premium</td>\n",
       "      <td>G</td>\n",
       "      <td>VVS2</td>\n",
       "      <td>60.9</td>\n",
       "      <td>58.0</td>\n",
       "      <td>15164</td>\n",
       "      <td>7.38</td>\n",
       "      <td>7.42</td>\n",
       "      <td>4.51</td>\n",
       "      <td>9.626679</td>\n",
       "    </tr>\n",
       "    <tr>\n",
       "      <th>2</th>\n",
       "      <td>3</td>\n",
       "      <td>0.32</td>\n",
       "      <td>Ideal</td>\n",
       "      <td>F</td>\n",
       "      <td>VS2</td>\n",
       "      <td>61.3</td>\n",
       "      <td>56.0</td>\n",
       "      <td>828</td>\n",
       "      <td>4.43</td>\n",
       "      <td>4.41</td>\n",
       "      <td>2.71</td>\n",
       "      <td>6.719013</td>\n",
       "    </tr>\n",
       "    <tr>\n",
       "      <th>3</th>\n",
       "      <td>4</td>\n",
       "      <td>0.53</td>\n",
       "      <td>Ideal</td>\n",
       "      <td>G</td>\n",
       "      <td>VS2</td>\n",
       "      <td>61.2</td>\n",
       "      <td>56.0</td>\n",
       "      <td>1577</td>\n",
       "      <td>5.19</td>\n",
       "      <td>5.22</td>\n",
       "      <td>3.19</td>\n",
       "      <td>7.363280</td>\n",
       "    </tr>\n",
       "    <tr>\n",
       "      <th>4</th>\n",
       "      <td>5</td>\n",
       "      <td>0.70</td>\n",
       "      <td>Premium</td>\n",
       "      <td>H</td>\n",
       "      <td>VVS2</td>\n",
       "      <td>61.0</td>\n",
       "      <td>57.0</td>\n",
       "      <td>2596</td>\n",
       "      <td>5.76</td>\n",
       "      <td>5.72</td>\n",
       "      <td>3.50</td>\n",
       "      <td>7.861727</td>\n",
       "    </tr>\n",
       "  </tbody>\n",
       "</table>\n",
       "</div>"
      ],
      "text/plain": [
       "   Id  carat      cut color clarity  depth  table  price     x     y     z  \\\n",
       "0   1   1.06    Ideal     I     SI2   61.8   57.0   4270  6.57  6.60  4.07   \n",
       "1   2   1.51  Premium     G    VVS2   60.9   58.0  15164  7.38  7.42  4.51   \n",
       "2   3   0.32    Ideal     F     VS2   61.3   56.0    828  4.43  4.41  2.71   \n",
       "3   4   0.53    Ideal     G     VS2   61.2   56.0   1577  5.19  5.22  3.19   \n",
       "4   5   0.70  Premium     H    VVS2   61.0   57.0   2596  5.76  5.72  3.50   \n",
       "\n",
       "   log_price  \n",
       "0   8.359369  \n",
       "1   9.626679  \n",
       "2   6.719013  \n",
       "3   7.363280  \n",
       "4   7.861727  "
      ]
     },
     "execution_count": 26,
     "metadata": {},
     "output_type": "execute_result"
    }
   ],
   "source": [
    "df_train.head()"
   ]
  },
  {
   "cell_type": "markdown",
   "id": "735819e3",
   "metadata": {
    "papermill": {
     "duration": 0.016046,
     "end_time": "2023-05-07T17:18:15.263839",
     "exception": false,
     "start_time": "2023-05-07T17:18:15.247793",
     "status": "completed"
    },
    "tags": []
   },
   "source": [
    "# Data Preprocessing"
   ]
  },
  {
   "cell_type": "code",
   "execution_count": 27,
   "id": "f2af5048",
   "metadata": {
    "execution": {
     "iopub.execute_input": "2023-05-07T17:18:15.297802Z",
     "iopub.status.busy": "2023-05-07T17:18:15.296994Z",
     "iopub.status.idle": "2023-05-07T17:18:15.439655Z",
     "shell.execute_reply": "2023-05-07T17:18:15.438504Z"
    },
    "papermill": {
     "duration": 0.161882,
     "end_time": "2023-05-07T17:18:15.441835",
     "exception": false,
     "start_time": "2023-05-07T17:18:15.279953",
     "status": "completed"
    },
    "tags": []
   },
   "outputs": [
    {
     "name": "stdout",
     "output_type": "stream",
     "text": [
      "[[2.]\n",
      " [3.]\n",
      " [2.]\n",
      " ...\n",
      " [3.]\n",
      " [3.]\n",
      " [2.]]\n"
     ]
    }
   ],
   "source": [
    "from sklearn.preprocessing import OrdinalEncoder\n",
    "# define data\n",
    "data=df_train[['cut']]\n",
    "# define ordinal encoding\n",
    "encoder = OrdinalEncoder()\n",
    "# transform data\n",
    "result = encoder.fit_transform(data)\n",
    "print(result)\n",
    "df_train['cut_encoded']= result.astype(int)"
   ]
  },
  {
   "cell_type": "code",
   "execution_count": 28,
   "id": "62a4ce81",
   "metadata": {
    "execution": {
     "iopub.execute_input": "2023-05-07T17:18:15.477654Z",
     "iopub.status.busy": "2023-05-07T17:18:15.476830Z",
     "iopub.status.idle": "2023-05-07T17:18:15.492621Z",
     "shell.execute_reply": "2023-05-07T17:18:15.491670Z"
    },
    "papermill": {
     "duration": 0.035139,
     "end_time": "2023-05-07T17:18:15.494474",
     "exception": false,
     "start_time": "2023-05-07T17:18:15.459335",
     "status": "completed"
    },
    "tags": []
   },
   "outputs": [
    {
     "data": {
      "text/html": [
       "<div>\n",
       "<style scoped>\n",
       "    .dataframe tbody tr th:only-of-type {\n",
       "        vertical-align: middle;\n",
       "    }\n",
       "\n",
       "    .dataframe tbody tr th {\n",
       "        vertical-align: top;\n",
       "    }\n",
       "\n",
       "    .dataframe thead th {\n",
       "        text-align: right;\n",
       "    }\n",
       "</style>\n",
       "<table border=\"1\" class=\"dataframe\">\n",
       "  <thead>\n",
       "    <tr style=\"text-align: right;\">\n",
       "      <th></th>\n",
       "      <th>Id</th>\n",
       "      <th>carat</th>\n",
       "      <th>cut</th>\n",
       "      <th>color</th>\n",
       "      <th>clarity</th>\n",
       "      <th>depth</th>\n",
       "      <th>table</th>\n",
       "      <th>price</th>\n",
       "      <th>x</th>\n",
       "      <th>y</th>\n",
       "      <th>z</th>\n",
       "      <th>log_price</th>\n",
       "      <th>cut_encoded</th>\n",
       "    </tr>\n",
       "  </thead>\n",
       "  <tbody>\n",
       "    <tr>\n",
       "      <th>0</th>\n",
       "      <td>1</td>\n",
       "      <td>1.06</td>\n",
       "      <td>Ideal</td>\n",
       "      <td>I</td>\n",
       "      <td>SI2</td>\n",
       "      <td>61.8</td>\n",
       "      <td>57.0</td>\n",
       "      <td>4270</td>\n",
       "      <td>6.57</td>\n",
       "      <td>6.60</td>\n",
       "      <td>4.07</td>\n",
       "      <td>8.359369</td>\n",
       "      <td>2</td>\n",
       "    </tr>\n",
       "    <tr>\n",
       "      <th>1</th>\n",
       "      <td>2</td>\n",
       "      <td>1.51</td>\n",
       "      <td>Premium</td>\n",
       "      <td>G</td>\n",
       "      <td>VVS2</td>\n",
       "      <td>60.9</td>\n",
       "      <td>58.0</td>\n",
       "      <td>15164</td>\n",
       "      <td>7.38</td>\n",
       "      <td>7.42</td>\n",
       "      <td>4.51</td>\n",
       "      <td>9.626679</td>\n",
       "      <td>3</td>\n",
       "    </tr>\n",
       "    <tr>\n",
       "      <th>2</th>\n",
       "      <td>3</td>\n",
       "      <td>0.32</td>\n",
       "      <td>Ideal</td>\n",
       "      <td>F</td>\n",
       "      <td>VS2</td>\n",
       "      <td>61.3</td>\n",
       "      <td>56.0</td>\n",
       "      <td>828</td>\n",
       "      <td>4.43</td>\n",
       "      <td>4.41</td>\n",
       "      <td>2.71</td>\n",
       "      <td>6.719013</td>\n",
       "      <td>2</td>\n",
       "    </tr>\n",
       "    <tr>\n",
       "      <th>3</th>\n",
       "      <td>4</td>\n",
       "      <td>0.53</td>\n",
       "      <td>Ideal</td>\n",
       "      <td>G</td>\n",
       "      <td>VS2</td>\n",
       "      <td>61.2</td>\n",
       "      <td>56.0</td>\n",
       "      <td>1577</td>\n",
       "      <td>5.19</td>\n",
       "      <td>5.22</td>\n",
       "      <td>3.19</td>\n",
       "      <td>7.363280</td>\n",
       "      <td>2</td>\n",
       "    </tr>\n",
       "    <tr>\n",
       "      <th>4</th>\n",
       "      <td>5</td>\n",
       "      <td>0.70</td>\n",
       "      <td>Premium</td>\n",
       "      <td>H</td>\n",
       "      <td>VVS2</td>\n",
       "      <td>61.0</td>\n",
       "      <td>57.0</td>\n",
       "      <td>2596</td>\n",
       "      <td>5.76</td>\n",
       "      <td>5.72</td>\n",
       "      <td>3.50</td>\n",
       "      <td>7.861727</td>\n",
       "      <td>3</td>\n",
       "    </tr>\n",
       "  </tbody>\n",
       "</table>\n",
       "</div>"
      ],
      "text/plain": [
       "   Id  carat      cut color clarity  depth  table  price     x     y     z  \\\n",
       "0   1   1.06    Ideal     I     SI2   61.8   57.0   4270  6.57  6.60  4.07   \n",
       "1   2   1.51  Premium     G    VVS2   60.9   58.0  15164  7.38  7.42  4.51   \n",
       "2   3   0.32    Ideal     F     VS2   61.3   56.0    828  4.43  4.41  2.71   \n",
       "3   4   0.53    Ideal     G     VS2   61.2   56.0   1577  5.19  5.22  3.19   \n",
       "4   5   0.70  Premium     H    VVS2   61.0   57.0   2596  5.76  5.72  3.50   \n",
       "\n",
       "   log_price  cut_encoded  \n",
       "0   8.359369            2  \n",
       "1   9.626679            3  \n",
       "2   6.719013            2  \n",
       "3   7.363280            2  \n",
       "4   7.861727            3  "
      ]
     },
     "execution_count": 28,
     "metadata": {},
     "output_type": "execute_result"
    }
   ],
   "source": [
    "df_train.head(5)"
   ]
  },
  {
   "cell_type": "code",
   "execution_count": 29,
   "id": "9d13da52",
   "metadata": {
    "execution": {
     "iopub.execute_input": "2023-05-07T17:18:15.530062Z",
     "iopub.status.busy": "2023-05-07T17:18:15.529283Z",
     "iopub.status.idle": "2023-05-07T17:18:15.555250Z",
     "shell.execute_reply": "2023-05-07T17:18:15.554259Z"
    },
    "papermill": {
     "duration": 0.04563,
     "end_time": "2023-05-07T17:18:15.557172",
     "exception": false,
     "start_time": "2023-05-07T17:18:15.511542",
     "status": "completed"
    },
    "tags": []
   },
   "outputs": [
    {
     "name": "stdout",
     "output_type": "stream",
     "text": [
      "[[5.]\n",
      " [3.]\n",
      " [2.]\n",
      " ...\n",
      " [5.]\n",
      " [1.]\n",
      " [3.]]\n"
     ]
    },
    {
     "data": {
      "text/html": [
       "<div>\n",
       "<style scoped>\n",
       "    .dataframe tbody tr th:only-of-type {\n",
       "        vertical-align: middle;\n",
       "    }\n",
       "\n",
       "    .dataframe tbody tr th {\n",
       "        vertical-align: top;\n",
       "    }\n",
       "\n",
       "    .dataframe thead th {\n",
       "        text-align: right;\n",
       "    }\n",
       "</style>\n",
       "<table border=\"1\" class=\"dataframe\">\n",
       "  <thead>\n",
       "    <tr style=\"text-align: right;\">\n",
       "      <th></th>\n",
       "      <th>color</th>\n",
       "      <th>color_encoded</th>\n",
       "    </tr>\n",
       "  </thead>\n",
       "  <tbody>\n",
       "    <tr>\n",
       "      <th>0</th>\n",
       "      <td>I</td>\n",
       "      <td>5</td>\n",
       "    </tr>\n",
       "    <tr>\n",
       "      <th>1</th>\n",
       "      <td>G</td>\n",
       "      <td>3</td>\n",
       "    </tr>\n",
       "    <tr>\n",
       "      <th>2</th>\n",
       "      <td>F</td>\n",
       "      <td>2</td>\n",
       "    </tr>\n",
       "    <tr>\n",
       "      <th>3</th>\n",
       "      <td>G</td>\n",
       "      <td>3</td>\n",
       "    </tr>\n",
       "    <tr>\n",
       "      <th>4</th>\n",
       "      <td>H</td>\n",
       "      <td>4</td>\n",
       "    </tr>\n",
       "    <tr>\n",
       "      <th>5</th>\n",
       "      <td>G</td>\n",
       "      <td>3</td>\n",
       "    </tr>\n",
       "    <tr>\n",
       "      <th>6</th>\n",
       "      <td>F</td>\n",
       "      <td>2</td>\n",
       "    </tr>\n",
       "    <tr>\n",
       "      <th>7</th>\n",
       "      <td>F</td>\n",
       "      <td>2</td>\n",
       "    </tr>\n",
       "    <tr>\n",
       "      <th>8</th>\n",
       "      <td>D</td>\n",
       "      <td>0</td>\n",
       "    </tr>\n",
       "    <tr>\n",
       "      <th>9</th>\n",
       "      <td>G</td>\n",
       "      <td>3</td>\n",
       "    </tr>\n",
       "    <tr>\n",
       "      <th>10</th>\n",
       "      <td>E</td>\n",
       "      <td>1</td>\n",
       "    </tr>\n",
       "    <tr>\n",
       "      <th>11</th>\n",
       "      <td>F</td>\n",
       "      <td>2</td>\n",
       "    </tr>\n",
       "    <tr>\n",
       "      <th>12</th>\n",
       "      <td>H</td>\n",
       "      <td>4</td>\n",
       "    </tr>\n",
       "    <tr>\n",
       "      <th>13</th>\n",
       "      <td>I</td>\n",
       "      <td>5</td>\n",
       "    </tr>\n",
       "    <tr>\n",
       "      <th>14</th>\n",
       "      <td>H</td>\n",
       "      <td>4</td>\n",
       "    </tr>\n",
       "    <tr>\n",
       "      <th>15</th>\n",
       "      <td>G</td>\n",
       "      <td>3</td>\n",
       "    </tr>\n",
       "    <tr>\n",
       "      <th>16</th>\n",
       "      <td>H</td>\n",
       "      <td>4</td>\n",
       "    </tr>\n",
       "    <tr>\n",
       "      <th>17</th>\n",
       "      <td>G</td>\n",
       "      <td>3</td>\n",
       "    </tr>\n",
       "    <tr>\n",
       "      <th>18</th>\n",
       "      <td>G</td>\n",
       "      <td>3</td>\n",
       "    </tr>\n",
       "    <tr>\n",
       "      <th>19</th>\n",
       "      <td>F</td>\n",
       "      <td>2</td>\n",
       "    </tr>\n",
       "  </tbody>\n",
       "</table>\n",
       "</div>"
      ],
      "text/plain": [
       "   color  color_encoded\n",
       "0      I              5\n",
       "1      G              3\n",
       "2      F              2\n",
       "3      G              3\n",
       "4      H              4\n",
       "5      G              3\n",
       "6      F              2\n",
       "7      F              2\n",
       "8      D              0\n",
       "9      G              3\n",
       "10     E              1\n",
       "11     F              2\n",
       "12     H              4\n",
       "13     I              5\n",
       "14     H              4\n",
       "15     G              3\n",
       "16     H              4\n",
       "17     G              3\n",
       "18     G              3\n",
       "19     F              2"
      ]
     },
     "execution_count": 29,
     "metadata": {},
     "output_type": "execute_result"
    }
   ],
   "source": [
    "data=df_train[['color']]\n",
    "# define ordinal encoding\n",
    "encoder = OrdinalEncoder()\n",
    "# transform data\n",
    "result = encoder.fit_transform(data)\n",
    "print(result)\n",
    "df_train['color_encoded']= result.astype(int)\n",
    "df_train[['color','color_encoded']].head(20)"
   ]
  },
  {
   "cell_type": "markdown",
   "id": "b130c696",
   "metadata": {
    "papermill": {
     "duration": 0.016574,
     "end_time": "2023-05-07T17:18:15.591510",
     "exception": false,
     "start_time": "2023-05-07T17:18:15.574936",
     "status": "completed"
    },
    "tags": []
   },
   "source": []
  },
  {
   "cell_type": "code",
   "execution_count": 30,
   "id": "13133942",
   "metadata": {
    "execution": {
     "iopub.execute_input": "2023-05-07T17:18:15.626756Z",
     "iopub.status.busy": "2023-05-07T17:18:15.625755Z",
     "iopub.status.idle": "2023-05-07T17:18:15.635037Z",
     "shell.execute_reply": "2023-05-07T17:18:15.633931Z"
    },
    "papermill": {
     "duration": 0.028889,
     "end_time": "2023-05-07T17:18:15.636943",
     "exception": false,
     "start_time": "2023-05-07T17:18:15.608054",
     "status": "completed"
    },
    "tags": []
   },
   "outputs": [
    {
     "data": {
      "text/plain": [
       "G    9060\n",
       "E    7832\n",
       "F    7633\n",
       "H    6651\n",
       "D    5421\n",
       "I    4265\n",
       "J    2290\n",
       "Name: color, dtype: int64"
      ]
     },
     "execution_count": 30,
     "metadata": {},
     "output_type": "execute_result"
    }
   ],
   "source": [
    "df_train.color.value_counts()"
   ]
  },
  {
   "cell_type": "code",
   "execution_count": 31,
   "id": "efdd2066",
   "metadata": {
    "execution": {
     "iopub.execute_input": "2023-05-07T17:18:15.671821Z",
     "iopub.status.busy": "2023-05-07T17:18:15.671523Z",
     "iopub.status.idle": "2023-05-07T17:18:15.689368Z",
     "shell.execute_reply": "2023-05-07T17:18:15.687902Z"
    },
    "papermill": {
     "duration": 0.037626,
     "end_time": "2023-05-07T17:18:15.691071",
     "exception": false,
     "start_time": "2023-05-07T17:18:15.653445",
     "status": "completed"
    },
    "tags": []
   },
   "outputs": [
    {
     "name": "stdout",
     "output_type": "stream",
     "text": [
      "[[3.]\n",
      " [7.]\n",
      " [5.]\n",
      " ...\n",
      " [6.]\n",
      " [4.]\n",
      " [5.]]\n"
     ]
    }
   ],
   "source": [
    "data=df_train[['clarity']]\n",
    "# define ordinal encoding\n",
    "encoder = OrdinalEncoder()\n",
    "# transform data\n",
    "result = encoder.fit_transform(data)\n",
    "print(result)\n",
    "df_train['clarity_encoded']= result.astype(int)"
   ]
  },
  {
   "cell_type": "code",
   "execution_count": 32,
   "id": "c2a6f51b",
   "metadata": {
    "execution": {
     "iopub.execute_input": "2023-05-07T17:18:15.727759Z",
     "iopub.status.busy": "2023-05-07T17:18:15.726833Z",
     "iopub.status.idle": "2023-05-07T17:18:15.747806Z",
     "shell.execute_reply": "2023-05-07T17:18:15.746805Z"
    },
    "papermill": {
     "duration": 0.040754,
     "end_time": "2023-05-07T17:18:15.749900",
     "exception": false,
     "start_time": "2023-05-07T17:18:15.709146",
     "status": "completed"
    },
    "tags": []
   },
   "outputs": [
    {
     "name": "stdout",
     "output_type": "stream",
     "text": [
      "[[2.]\n",
      " [3.]\n",
      " [4.]\n",
      " ...\n",
      " [2.]\n",
      " [3.]\n",
      " [3.]]\n",
      "[[3.]\n",
      " [1.]\n",
      " [5.]\n",
      " ...\n",
      " [1.]\n",
      " [1.]\n",
      " [2.]]\n",
      "[[7.]\n",
      " [5.]\n",
      " [4.]\n",
      " ...\n",
      " [6.]\n",
      " [3.]\n",
      " [3.]]\n"
     ]
    }
   ],
   "source": [
    "data=df_test[['cut']]\n",
    "# define ordinal encoding\n",
    "encoder = OrdinalEncoder()\n",
    "# transform data\n",
    "result = encoder.fit_transform(data)\n",
    "print(result)\n",
    "df_test['cut_encoded']= result.astype(int)\n",
    "\n",
    "data=df_test[['color']]\n",
    "# define ordinal encoding\n",
    "encoder = OrdinalEncoder()\n",
    "# transform data\n",
    "result = encoder.fit_transform(data)\n",
    "print(result)\n",
    "df_test['color_encoded']= result.astype(int)\n",
    "\n",
    "data=df_test[['clarity']]\n",
    "# define ordinal encoding\n",
    "encoder = OrdinalEncoder()\n",
    "# transform data\n",
    "result = encoder.fit_transform(data)\n",
    "print(result)\n",
    "df_test['clarity_encoded']= result.astype(int)"
   ]
  },
  {
   "cell_type": "code",
   "execution_count": 33,
   "id": "403f29d3",
   "metadata": {
    "execution": {
     "iopub.execute_input": "2023-05-07T17:18:15.785588Z",
     "iopub.status.busy": "2023-05-07T17:18:15.784848Z",
     "iopub.status.idle": "2023-05-07T17:18:15.800419Z",
     "shell.execute_reply": "2023-05-07T17:18:15.799412Z"
    },
    "papermill": {
     "duration": 0.035236,
     "end_time": "2023-05-07T17:18:15.802364",
     "exception": false,
     "start_time": "2023-05-07T17:18:15.767128",
     "status": "completed"
    },
    "tags": []
   },
   "outputs": [
    {
     "data": {
      "text/html": [
       "<div>\n",
       "<style scoped>\n",
       "    .dataframe tbody tr th:only-of-type {\n",
       "        vertical-align: middle;\n",
       "    }\n",
       "\n",
       "    .dataframe tbody tr th {\n",
       "        vertical-align: top;\n",
       "    }\n",
       "\n",
       "    .dataframe thead th {\n",
       "        text-align: right;\n",
       "    }\n",
       "</style>\n",
       "<table border=\"1\" class=\"dataframe\">\n",
       "  <thead>\n",
       "    <tr style=\"text-align: right;\">\n",
       "      <th></th>\n",
       "      <th>Id</th>\n",
       "      <th>carat</th>\n",
       "      <th>cut</th>\n",
       "      <th>color</th>\n",
       "      <th>clarity</th>\n",
       "      <th>depth</th>\n",
       "      <th>table</th>\n",
       "      <th>price</th>\n",
       "      <th>x</th>\n",
       "      <th>y</th>\n",
       "      <th>z</th>\n",
       "      <th>log_price</th>\n",
       "      <th>cut_encoded</th>\n",
       "      <th>color_encoded</th>\n",
       "      <th>clarity_encoded</th>\n",
       "    </tr>\n",
       "  </thead>\n",
       "  <tbody>\n",
       "    <tr>\n",
       "      <th>0</th>\n",
       "      <td>1</td>\n",
       "      <td>1.06</td>\n",
       "      <td>Ideal</td>\n",
       "      <td>I</td>\n",
       "      <td>SI2</td>\n",
       "      <td>61.8</td>\n",
       "      <td>57.0</td>\n",
       "      <td>4270</td>\n",
       "      <td>6.57</td>\n",
       "      <td>6.60</td>\n",
       "      <td>4.07</td>\n",
       "      <td>8.359369</td>\n",
       "      <td>2</td>\n",
       "      <td>5</td>\n",
       "      <td>3</td>\n",
       "    </tr>\n",
       "    <tr>\n",
       "      <th>1</th>\n",
       "      <td>2</td>\n",
       "      <td>1.51</td>\n",
       "      <td>Premium</td>\n",
       "      <td>G</td>\n",
       "      <td>VVS2</td>\n",
       "      <td>60.9</td>\n",
       "      <td>58.0</td>\n",
       "      <td>15164</td>\n",
       "      <td>7.38</td>\n",
       "      <td>7.42</td>\n",
       "      <td>4.51</td>\n",
       "      <td>9.626679</td>\n",
       "      <td>3</td>\n",
       "      <td>3</td>\n",
       "      <td>7</td>\n",
       "    </tr>\n",
       "    <tr>\n",
       "      <th>2</th>\n",
       "      <td>3</td>\n",
       "      <td>0.32</td>\n",
       "      <td>Ideal</td>\n",
       "      <td>F</td>\n",
       "      <td>VS2</td>\n",
       "      <td>61.3</td>\n",
       "      <td>56.0</td>\n",
       "      <td>828</td>\n",
       "      <td>4.43</td>\n",
       "      <td>4.41</td>\n",
       "      <td>2.71</td>\n",
       "      <td>6.719013</td>\n",
       "      <td>2</td>\n",
       "      <td>2</td>\n",
       "      <td>5</td>\n",
       "    </tr>\n",
       "    <tr>\n",
       "      <th>3</th>\n",
       "      <td>4</td>\n",
       "      <td>0.53</td>\n",
       "      <td>Ideal</td>\n",
       "      <td>G</td>\n",
       "      <td>VS2</td>\n",
       "      <td>61.2</td>\n",
       "      <td>56.0</td>\n",
       "      <td>1577</td>\n",
       "      <td>5.19</td>\n",
       "      <td>5.22</td>\n",
       "      <td>3.19</td>\n",
       "      <td>7.363280</td>\n",
       "      <td>2</td>\n",
       "      <td>3</td>\n",
       "      <td>5</td>\n",
       "    </tr>\n",
       "    <tr>\n",
       "      <th>4</th>\n",
       "      <td>5</td>\n",
       "      <td>0.70</td>\n",
       "      <td>Premium</td>\n",
       "      <td>H</td>\n",
       "      <td>VVS2</td>\n",
       "      <td>61.0</td>\n",
       "      <td>57.0</td>\n",
       "      <td>2596</td>\n",
       "      <td>5.76</td>\n",
       "      <td>5.72</td>\n",
       "      <td>3.50</td>\n",
       "      <td>7.861727</td>\n",
       "      <td>3</td>\n",
       "      <td>4</td>\n",
       "      <td>7</td>\n",
       "    </tr>\n",
       "  </tbody>\n",
       "</table>\n",
       "</div>"
      ],
      "text/plain": [
       "   Id  carat      cut color clarity  depth  table  price     x     y     z  \\\n",
       "0   1   1.06    Ideal     I     SI2   61.8   57.0   4270  6.57  6.60  4.07   \n",
       "1   2   1.51  Premium     G    VVS2   60.9   58.0  15164  7.38  7.42  4.51   \n",
       "2   3   0.32    Ideal     F     VS2   61.3   56.0    828  4.43  4.41  2.71   \n",
       "3   4   0.53    Ideal     G     VS2   61.2   56.0   1577  5.19  5.22  3.19   \n",
       "4   5   0.70  Premium     H    VVS2   61.0   57.0   2596  5.76  5.72  3.50   \n",
       "\n",
       "   log_price  cut_encoded  color_encoded  clarity_encoded  \n",
       "0   8.359369            2              5                3  \n",
       "1   9.626679            3              3                7  \n",
       "2   6.719013            2              2                5  \n",
       "3   7.363280            2              3                5  \n",
       "4   7.861727            3              4                7  "
      ]
     },
     "execution_count": 33,
     "metadata": {},
     "output_type": "execute_result"
    }
   ],
   "source": [
    "df_train.head()"
   ]
  },
  {
   "cell_type": "code",
   "execution_count": 34,
   "id": "3e7f0114",
   "metadata": {
    "execution": {
     "iopub.execute_input": "2023-05-07T17:18:15.839776Z",
     "iopub.status.busy": "2023-05-07T17:18:15.838359Z",
     "iopub.status.idle": "2023-05-07T17:18:16.143480Z",
     "shell.execute_reply": "2023-05-07T17:18:16.142520Z"
    },
    "papermill": {
     "duration": 0.325376,
     "end_time": "2023-05-07T17:18:16.145615",
     "exception": false,
     "start_time": "2023-05-07T17:18:15.820239",
     "status": "completed"
    },
    "tags": []
   },
   "outputs": [
    {
     "data": {
      "text/plain": [
       "<AxesSubplot: >"
      ]
     },
     "execution_count": 34,
     "metadata": {},
     "output_type": "execute_result"
    },
    {
     "data": {
      "image/png": "[encoded data removed]",
      "text/plain": [
       "<Figure size 640x480 with 2 Axes>"
      ]
     },
     "metadata": {},
     "output_type": "display_data"
    }
   ],
   "source": [
    "sns.heatmap(df_train[['cut_encoded','color_encoded','clarity_encoded','price']].corr(),annot=True)"
   ]
  },
  {
   "cell_type": "code",
   "execution_count": 35,
   "id": "872197c9",
   "metadata": {
    "execution": {
     "iopub.execute_input": "2023-05-07T17:18:16.183054Z",
     "iopub.status.busy": "2023-05-07T17:18:16.182762Z",
     "iopub.status.idle": "2023-05-07T17:18:16.570799Z",
     "shell.execute_reply": "2023-05-07T17:18:16.569933Z"
    },
    "papermill": {
     "duration": 0.408665,
     "end_time": "2023-05-07T17:18:16.572699",
     "exception": false,
     "start_time": "2023-05-07T17:18:16.164034",
     "status": "completed"
    },
    "tags": []
   },
   "outputs": [
    {
     "data": {
      "text/plain": [
       "<AxesSubplot: xlabel='cut_encoded', ylabel='price'>"
      ]
     },
     "execution_count": 35,
     "metadata": {},
     "output_type": "execute_result"
    },
    {
     "data": {
      "image/png": "[encoded data removed]",
      "text/plain": [
       "<Figure size 640x480 with 1 Axes>"
      ]
     },
     "metadata": {},
     "output_type": "display_data"
    }
   ],
   "source": [
    "sns.scatterplot(data=df_train,x='cut_encoded',y='price')"
   ]
  },
  {
   "cell_type": "code",
   "execution_count": 36,
   "id": "159fc4c9",
   "metadata": {
    "execution": {
     "iopub.execute_input": "2023-05-07T17:18:16.611370Z",
     "iopub.status.busy": "2023-05-07T17:18:16.611040Z",
     "iopub.status.idle": "2023-05-07T17:18:17.363514Z",
     "shell.execute_reply": "2023-05-07T17:18:17.362516Z"
    },
    "papermill": {
     "duration": 0.774059,
     "end_time": "2023-05-07T17:18:17.365395",
     "exception": false,
     "start_time": "2023-05-07T17:18:16.591336",
     "status": "completed"
    },
    "tags": []
   },
   "outputs": [
    {
     "data": {
      "text/plain": [
       "<AxesSubplot: xlabel='color', ylabel='log_price'>"
      ]
     },
     "execution_count": 36,
     "metadata": {},
     "output_type": "execute_result"
    },
    {
     "data": {
      "image/png": "[encoded data removed]",
      "text/plain": [
       "<Figure size 640x480 with 1 Axes>"
      ]
     },
     "metadata": {},
     "output_type": "display_data"
    }
   ],
   "source": [
    "sns.barplot(data=df_train,x='color',y='log_price')"
   ]
  },
  {
   "cell_type": "code",
   "execution_count": 37,
   "id": "9f094e6a",
   "metadata": {
    "execution": {
     "iopub.execute_input": "2023-05-07T17:18:17.405860Z",
     "iopub.status.busy": "2023-05-07T17:18:17.404459Z",
     "iopub.status.idle": "2023-05-07T17:18:18.103548Z",
     "shell.execute_reply": "2023-05-07T17:18:18.102712Z"
    },
    "papermill": {
     "duration": 0.720938,
     "end_time": "2023-05-07T17:18:18.105690",
     "exception": false,
     "start_time": "2023-05-07T17:18:17.384752",
     "status": "completed"
    },
    "tags": []
   },
   "outputs": [
    {
     "data": {
      "text/plain": [
       "<AxesSubplot: xlabel='cut', ylabel='log_price'>"
      ]
     },
     "execution_count": 37,
     "metadata": {},
     "output_type": "execute_result"
    },
    {
     "data": {
      "image/png": "[encoded data removed]",
      "text/plain": [
       "<Figure size 640x480 with 1 Axes>"
      ]
     },
     "metadata": {},
     "output_type": "display_data"
    }
   ],
   "source": [
    "sns.barplot(data=df_train,x='cut',y='log_price')"
   ]
  },
  {
   "cell_type": "code",
   "execution_count": 38,
   "id": "10794e03",
   "metadata": {
    "execution": {
     "iopub.execute_input": "2023-05-07T17:18:18.149616Z",
     "iopub.status.busy": "2023-05-07T17:18:18.149266Z",
     "iopub.status.idle": "2023-05-07T17:18:18.943403Z",
     "shell.execute_reply": "2023-05-07T17:18:18.942516Z"
    },
    "papermill": {
     "duration": 0.81899,
     "end_time": "2023-05-07T17:18:18.945728",
     "exception": false,
     "start_time": "2023-05-07T17:18:18.126738",
     "status": "completed"
    },
    "tags": []
   },
   "outputs": [
    {
     "data": {
      "text/plain": [
       "<AxesSubplot: xlabel='clarity', ylabel='log_price'>"
      ]
     },
     "execution_count": 38,
     "metadata": {},
     "output_type": "execute_result"
    },
    {
     "data": {
      "image/png": "[encoded data removed]",
      "text/plain": [
       "<Figure size 640x480 with 1 Axes>"
      ]
     },
     "metadata": {},
     "output_type": "display_data"
    }
   ],
   "source": [
    "sns.barplot(data=df_train,x='clarity',y='log_price')"
   ]
  },
  {
   "cell_type": "code",
   "execution_count": 39,
   "id": "a369d9e3",
   "metadata": {
    "execution": {
     "iopub.execute_input": "2023-05-07T17:18:18.987346Z",
     "iopub.status.busy": "2023-05-07T17:18:18.985875Z",
     "iopub.status.idle": "2023-05-07T17:18:18.993222Z",
     "shell.execute_reply": "2023-05-07T17:18:18.992376Z"
    },
    "papermill": {
     "duration": 0.029332,
     "end_time": "2023-05-07T17:18:18.995112",
     "exception": false,
     "start_time": "2023-05-07T17:18:18.965780",
     "status": "completed"
    },
    "tags": []
   },
   "outputs": [],
   "source": [
    "df_model_training=df_train[['carat','x','y','z','cut_encoded','color_encoded','clarity_encoded','depth','table']]\n",
    "df_target= df_train['price']"
   ]
  },
  {
   "cell_type": "code",
   "execution_count": 40,
   "id": "0416a0c5",
   "metadata": {
    "execution": {
     "iopub.execute_input": "2023-05-07T17:18:19.035124Z",
     "iopub.status.busy": "2023-05-07T17:18:19.034288Z",
     "iopub.status.idle": "2023-05-07T17:18:58.083517Z",
     "shell.execute_reply": "2023-05-07T17:18:58.082518Z"
    },
    "papermill": {
     "duration": 39.071704,
     "end_time": "2023-05-07T17:18:58.085939",
     "exception": false,
     "start_time": "2023-05-07T17:18:19.014235",
     "status": "completed"
    },
    "tags": []
   },
   "outputs": [],
   "source": [
    "# from sklearn.linear_model import LinearRegression\n",
    "# lr=LinearRegression()\n",
    "# lr.fit(df_model_training,df_target)\n",
    "# yhat= lr.predict(df_model_training)\n",
    "\n",
    "# from sklearn.linear_model import Ridge\n",
    "from sklearn.preprocessing import StandardScaler\n",
    "scale=StandardScaler()\n",
    "x_train_scaled=scale.fit_transform(df_model_training)\n",
    "# ridge=Ridge(alpha=1)\n",
    "# ridge.fit(x_train_scaled,df_target)\n",
    "# yhat=ridge.predict(x_train_scaled)\n",
    "# from sklearn.tree import DecisionTreeRegressor\n",
    "# decision_tree = DecisionTreeRegressor(min_samples_split=8,min_samples_leaf=5,max_depth=5,max_features='sqrt')\n",
    "\n",
    "# # Train the model\n",
    "# decision_tree.fit(x_train_scaled, df_target)\n",
    "\n",
    "# # Predict on the test set\n",
    "# yhat = decision_tree.predict(x_train_scaled)\n",
    "from sklearn.ensemble import RandomForestRegressor\n",
    "from sklearn.model_selection import cross_val_score\n",
    "random_forest = RandomForestRegressor(n_estimators=500,oob_score = True, max_depth=50,min_samples_split=8,min_samples_leaf=50,random_state=42)\n",
    "# scores = cross_val_score(random_forest, x_train_scaled, df_target, cv=5, scoring='neg_mean_squared_error')\n",
    "# rmse_scores = np.sqrt(-scores)\n",
    "random_forest.fit(x_train_scaled, df_target)\n",
    "\n",
    "# # Predict on the test set\n",
    "yhat = random_forest.predict(x_train_scaled)\n",
    "# print(\"Cross-Validation RMSE Scores:\", rmse_scores)\n",
    "\n",
    "# # Calculate mean RMSE score\n",
    "# mean_rmse = np.mean(rmse_scores)\n",
    "# print(\"Mean RMSE:\", mean_rmse)"
   ]
  },
  {
   "cell_type": "code",
   "execution_count": 41,
   "id": "0052762d",
   "metadata": {
    "execution": {
     "iopub.execute_input": "2023-05-07T17:18:58.128772Z",
     "iopub.status.busy": "2023-05-07T17:18:58.127267Z",
     "iopub.status.idle": "2023-05-07T17:18:58.744598Z",
     "shell.execute_reply": "2023-05-07T17:18:58.743773Z"
    },
    "papermill": {
     "duration": 0.639731,
     "end_time": "2023-05-07T17:18:58.746492",
     "exception": false,
     "start_time": "2023-05-07T17:18:58.106761",
     "status": "completed"
    },
    "tags": []
   },
   "outputs": [
    {
     "name": "stderr",
     "output_type": "stream",
     "text": [
      "/tmp/ipykernel_23/4183237311.py:1: UserWarning: \n",
      "\n",
      "`distplot` is a deprecated function and will be removed in seaborn v0.14.0.\n",
      "\n",
      "Please adapt your code to use either `displot` (a figure-level function with\n",
      "similar flexibility) or `kdeplot` (an axes-level function for kernel density plots).\n",
      "\n",
      "For a guide to updating your code to use the new functions, please see\n",
      "https://gist.github.com/mwaskom/de44147ed2974457ad6372750bbe5751\n",
      "\n",
      "  g= sns.distplot(df_target,hist=False,label='actual')\n",
      "/tmp/ipykernel_23/4183237311.py:2: UserWarning: \n",
      "\n",
      "`distplot` is a deprecated function and will be removed in seaborn v0.14.0.\n",
      "\n",
      "Please adapt your code to use either `displot` (a figure-level function with\n",
      "similar flexibility) or `kdeplot` (an axes-level function for kernel density plots).\n",
      "\n",
      "For a guide to updating your code to use the new functions, please see\n",
      "https://gist.github.com/mwaskom/de44147ed2974457ad6372750bbe5751\n",
      "\n",
      "  sns.distplot(yhat,hist=False,ax=g,label='predicted')\n"
     ]
    },
    {
     "data": {
      "image/png": "[encoded data removed]",
      "text/plain": [
       "<Figure size 640x480 with 1 Axes>"
      ]
     },
     "metadata": {},
     "output_type": "display_data"
    }
   ],
   "source": [
    "g= sns.distplot(df_target,hist=False,label='actual')\n",
    "sns.distplot(yhat,hist=False,ax=g,label='predicted')\n",
    "\n",
    "plt.legend()\n",
    "plt.show()"
   ]
  },
  {
   "cell_type": "code",
   "execution_count": 42,
   "id": "b789c557",
   "metadata": {
    "execution": {
     "iopub.execute_input": "2023-05-07T17:18:58.788949Z",
     "iopub.status.busy": "2023-05-07T17:18:58.788039Z",
     "iopub.status.idle": "2023-05-07T17:18:59.355202Z",
     "shell.execute_reply": "2023-05-07T17:18:59.354267Z"
    },
    "papermill": {
     "duration": 0.590831,
     "end_time": "2023-05-07T17:18:59.357517",
     "exception": false,
     "start_time": "2023-05-07T17:18:58.766686",
     "status": "completed"
    },
    "tags": []
   },
   "outputs": [],
   "source": [
    "x_test=df_test[['carat','x','y','z','cut_encoded','color_encoded','clarity_encoded','depth','table']]\n",
    "scaled_test=scale.transform(x_test)\n",
    "#y_test=ridge.predict(scaled_test)\n",
    "y_test = random_forest.predict(scaled_test)\n"
   ]
  },
  {
   "cell_type": "code",
   "execution_count": 43,
   "id": "787ece27",
   "metadata": {
    "execution": {
     "iopub.execute_input": "2023-05-07T17:18:59.398890Z",
     "iopub.status.busy": "2023-05-07T17:18:59.398562Z",
     "iopub.status.idle": "2023-05-07T17:18:59.404068Z",
     "shell.execute_reply": "2023-05-07T17:18:59.403266Z"
    },
    "papermill": {
     "duration": 0.027968,
     "end_time": "2023-05-07T17:18:59.405969",
     "exception": false,
     "start_time": "2023-05-07T17:18:59.378001",
     "status": "completed"
    },
    "tags": []
   },
   "outputs": [],
   "source": [
    "df_test['price']=y_test\n"
   ]
  },
  {
   "cell_type": "code",
   "execution_count": 44,
   "id": "37f6faf2",
   "metadata": {
    "execution": {
     "iopub.execute_input": "2023-05-07T17:18:59.446552Z",
     "iopub.status.busy": "2023-05-07T17:18:59.446273Z",
     "iopub.status.idle": "2023-05-07T17:18:59.452508Z",
     "shell.execute_reply": "2023-05-07T17:18:59.451750Z"
    },
    "papermill": {
     "duration": 0.028578,
     "end_time": "2023-05-07T17:18:59.454287",
     "exception": false,
     "start_time": "2023-05-07T17:18:59.425709",
     "status": "completed"
    },
    "tags": []
   },
   "outputs": [],
   "source": [
    "test= df_test[['Id','price']]\n"
   ]
  },
  {
   "cell_type": "code",
   "execution_count": 45,
   "id": "b2ce20ab",
   "metadata": {
    "execution": {
     "iopub.execute_input": "2023-05-07T17:18:59.494963Z",
     "iopub.status.busy": "2023-05-07T17:18:59.494654Z",
     "iopub.status.idle": "2023-05-07T17:18:59.524252Z",
     "shell.execute_reply": "2023-05-07T17:18:59.523336Z"
    },
    "papermill": {
     "duration": 0.052584,
     "end_time": "2023-05-07T17:18:59.526465",
     "exception": false,
     "start_time": "2023-05-07T17:18:59.473881",
     "status": "completed"
    },
    "tags": []
   },
   "outputs": [],
   "source": [
    "test.head(15)\n",
    "test.to_csv('testdata1.csv',index=False)"
   ]
  },
  {
   "cell_type": "code",
   "execution_count": 46,
   "id": "3b6f36da",
   "metadata": {
    "execution": {
     "iopub.execute_input": "2023-05-07T17:18:59.569226Z",
     "iopub.status.busy": "2023-05-07T17:18:59.568617Z",
     "iopub.status.idle": "2023-05-07T17:18:59.577138Z",
     "shell.execute_reply": "2023-05-07T17:18:59.576250Z"
    },
    "papermill": {
     "duration": 0.031605,
     "end_time": "2023-05-07T17:18:59.578971",
     "exception": false,
     "start_time": "2023-05-07T17:18:59.547366",
     "status": "completed"
    },
    "tags": []
   },
   "outputs": [
    {
     "data": {
      "text/html": [
       "<div>\n",
       "<style scoped>\n",
       "    .dataframe tbody tr th:only-of-type {\n",
       "        vertical-align: middle;\n",
       "    }\n",
       "\n",
       "    .dataframe tbody tr th {\n",
       "        vertical-align: top;\n",
       "    }\n",
       "\n",
       "    .dataframe thead th {\n",
       "        text-align: right;\n",
       "    }\n",
       "</style>\n",
       "<table border=\"1\" class=\"dataframe\">\n",
       "  <thead>\n",
       "    <tr style=\"text-align: right;\">\n",
       "      <th></th>\n",
       "      <th>Id</th>\n",
       "      <th>price</th>\n",
       "    </tr>\n",
       "  </thead>\n",
       "  <tbody>\n",
       "    <tr>\n",
       "      <th>0</th>\n",
       "      <td>1</td>\n",
       "      <td>880.488928</td>\n",
       "    </tr>\n",
       "    <tr>\n",
       "      <th>1</th>\n",
       "      <td>2</td>\n",
       "      <td>2864.995149</td>\n",
       "    </tr>\n",
       "    <tr>\n",
       "      <th>2</th>\n",
       "      <td>3</td>\n",
       "      <td>819.988426</td>\n",
       "    </tr>\n",
       "    <tr>\n",
       "      <th>3</th>\n",
       "      <td>4</td>\n",
       "      <td>2917.572176</td>\n",
       "    </tr>\n",
       "    <tr>\n",
       "      <th>4</th>\n",
       "      <td>5</td>\n",
       "      <td>1087.460161</td>\n",
       "    </tr>\n",
       "  </tbody>\n",
       "</table>\n",
       "</div>"
      ],
      "text/plain": [
       "   Id        price\n",
       "0   1   880.488928\n",
       "1   2  2864.995149\n",
       "2   3   819.988426\n",
       "3   4  2917.572176\n",
       "4   5  1087.460161"
      ]
     },
     "execution_count": 46,
     "metadata": {},
     "output_type": "execute_result"
    }
   ],
   "source": [
    "test.head()"
   ]
  },
  {
   "cell_type": "code",
   "execution_count": null,
   "id": "70d493a3",
   "metadata": {
    "papermill": {
     "duration": 0.020701,
     "end_time": "2023-05-07T17:18:59.620536",
     "exception": false,
     "start_time": "2023-05-07T17:18:59.599835",
     "status": "completed"
    },
    "tags": []
   },
   "outputs": [],
   "source": []
  },
  {
   "cell_type": "code",
   "execution_count": null,
   "id": "feae985b",
   "metadata": {
    "papermill": {
     "duration": 0.019816,
     "end_time": "2023-05-07T17:18:59.660077",
     "exception": false,
     "start_time": "2023-05-07T17:18:59.640261",
     "status": "completed"
    },
    "tags": []
   },
   "outputs": [],
   "source": []
  }
 ],
 "metadata": {
  "kernelspec": {
   "display_name": "Python 3",
   "language": "python",
   "name": "python3"
  },
  "language_info": {
   "codemirror_mode": {
    "name": "ipython",
    "version": 3
   },
   "file_extension": ".py",
   "mimetype": "text/x-python",
   "name": "python",
   "nbconvert_exporter": "python",
   "pygments_lexer": "ipython3",
   "version": "3.10.10"
  },
  "papermill": {
   "default_parameters": {},
   "duration": 68.554166,
   "end_time": "2023-05-07T17:19:00.800684",
   "environment_variables": {},
   "exception": null,
   "input_path": "__notebook__.ipynb",
   "output_path": "__notebook__.ipynb",
   "parameters": {},
   "start_time": "2023-05-07T17:17:52.246518",
   "version": "2.4.0"
  }
 },
 "nbformat": 4,
 "nbformat_minor": 5
}
